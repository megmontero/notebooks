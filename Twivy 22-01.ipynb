{
 "cells": [
  {
   "cell_type": "code",
   "execution_count": 5,
   "metadata": {
    "collapsed": false,
    "deletable": true,
    "editable": true,
    "scrolled": true
   },
   "outputs": [
    {
     "name": "stdout",
     "output_type": "stream",
     "text": [
      "2017-04-08 00:00:00\n"
     ]
    }
   ],
   "source": [
    "from pymongo import MongoClient\n",
    "import time\n",
    "import operator\n",
    "import datetime\n",
    "import re\n",
    "\n",
    "client = MongoClient()\n",
    "db = client['twitter']\n",
    "te = db['prueba2']\n",
    "dia_inicio = datetime.datetime.now()\n",
    "dia_inicio = datetime.datetime(dia_inicio.year, dia_inicio.month, dia_inicio.day -1)\n",
    "print dia_inicio"
   ]
  },
  {
   "cell_type": "code",
   "execution_count": 6,
   "metadata": {
    "collapsed": false,
    "deletable": true,
    "editable": true
   },
   "outputs": [],
   "source": [
    "orig = te.find_one({'created_at': {\"$gt\" : dia_inicio}}, sort=[(\"created_at\", 1)])[\"created_at\"]\n",
    "fin = te.find_one({'created_at': {\"$gt\" : dia_inicio}}, sort=[(\"created_at\", -1)])[\"created_at\"]\n",
    "intervalo = 15\n",
    "l= []\n",
    "#trunco el a a minutos\n",
    "a =  datetime.datetime(orig.year, orig.month, orig.day, orig.hour, orig.minute)\n",
    "while a < fin: \n",
    "    sl = []\n",
    "    b = a + datetime.timedelta(minutes=intervalo)\n",
    "    rl = te.find({'$and': [{'created_at': {\"$gte\" : a}} ,{'created_at': {\"$lt\" : b}} ]})\n",
    "    r = rl.count()\n",
    "    if r >0:\n",
    "        #rh = te.find({'$and': [{'text':{\"$regex\" : '#'}} ,{'created_at': {\"$gte\" : a}} ,{'created_at': {\"$lt\" : b}} ]}).count()\n",
    "        #rhl = te.find({'$and': [{'text':{\"$regex\" : '#'}} ,{'created_at': {\"$gte\" : a}} ,{'created_at': {\"$lt\" : b}} ]})\n",
    "        #rw = te.find({'$and': [{'text':{\"$regex\" : 'http'}} ,{'created_at': {\"$gte\" : a}} ,{'created_at': {\"$lt\" : b}} ]}).count()\n",
    "        #rh2 = [tw for tw in r if tw['entities']['hastags']]\n",
    "        #rw2 = [tw for tw in r if len(tw['entities']['urls'])>0   ]\n",
    "        rw = len(filter(lambda a: len(a['entities']['urls']) >0, rl))\n",
    "        rl.rewind()\n",
    "        rh = len(filter(lambda a: len(a['entities']['hashtags']) >0, rl))\n",
    "        sl.append(a)\n",
    "        sl.append(r)\n",
    "        sl.append(rh)\n",
    "        sl.append(rw)\n",
    "        l.append(sl)\n",
    "    a=b \n"
   ]
  },
  {
   "cell_type": "code",
   "execution_count": 7,
   "metadata": {
    "collapsed": false,
    "deletable": true,
    "editable": true
   },
   "outputs": [
    {
     "name": "stdout",
     "output_type": "stream",
     "text": [
      "2017-04-09 09:11:00 ====> 820 16.59% 82.80%\n",
      "2017-04-09 09:26:00 ====> 814 17.94% 85.38%\n",
      "2017-04-09 09:41:00 ====> 712 17.84% 82.30%\n",
      "2017-04-09 09:56:00 ====> 758 16.62% 83.25%\n",
      "2017-04-09 10:11:00 ====> 729 17.56% 83.54%\n",
      "2017-04-09 10:26:00 ====> 775 17.29% 83.74%\n",
      "2017-04-09 10:41:00 ====> 731 16.96% 87.96%\n",
      "2017-04-09 10:56:00 ====> 757 15.19% 84.68%\n",
      "2017-04-09 11:11:00 ====> 800 16.25% 87.38%\n",
      "2017-04-09 11:26:00 ====> 721 16.64% 82.11%\n",
      "2017-04-09 11:41:00 ====> 793 29.38% 85.50%\n",
      "2017-04-09 11:56:00 ====> 841 27.59% 82.64%\n",
      "2017-04-09 12:11:00 ====> 802 18.95% 82.29%\n",
      "2017-04-09 12:26:00 ====> 775 21.68% 85.55%\n",
      "2017-04-09 12:41:00 ====> 745 14.09% 84.56%\n",
      "2017-04-09 12:56:00 ====> 840 15.36% 82.86%\n",
      "2017-04-09 13:11:00 ====> 824 17.72% 83.13%\n",
      "2017-04-09 13:26:00 ====> 845 19.17% 85.09%\n",
      "2017-04-09 13:41:00 ====> 879 14.56% 85.78%\n",
      "2017-04-09 13:56:00 ====> 903 17.72% 88.26%\n",
      "2017-04-09 14:11:00 ====> 836 14.35% 84.93%\n",
      "2017-04-09 14:26:00 ====> 850 17.53% 84.71%\n",
      "2017-04-09 14:41:00 ====> 793 14.63% 81.59%\n",
      "2017-04-09 14:56:00 ====> 827 17.41% 82.47%\n",
      "2017-04-09 15:11:00 ====> 983 18.51% 78.74%\n",
      "2017-04-09 15:26:00 ====> 1139 31.61% 59.96%\n",
      "2017-04-09 15:41:00 ====> 751 18.38% 80.16%\n",
      "2017-04-09 15:56:00 ====> 807 19.33% 82.78%\n",
      "2017-04-09 16:11:00 ====> 740 20.95% 81.76%\n",
      "2017-04-09 16:26:00 ====> 746 17.16% 81.77%\n",
      "2017-04-09 16:41:00 ====> 86 6.98% 87.21%\n"
     ]
    }
   ],
   "source": [
    "ls = sorted(l, key=operator.itemgetter(0))\n",
    "for a in ls: \n",
    "    print str(a[0]) + ' ====> ' + str(a[1]) + ' ' + \"{0:.2f}\".format((a[2]/float(a[1]) * 100)) + '% ' + \"{0:.2f}\".format((a[3]/float(a[1]) * 100)) + '%'\n",
    "    \n",
    "    str(a[2]/float(a[1]) * 100)"
   ]
  },
  {
   "cell_type": "code",
   "execution_count": 10,
   "metadata": {
    "collapsed": true,
    "deletable": true,
    "editable": true
   },
   "outputs": [],
   "source": [
    "## get url Real-- no lo usamos, esta en entities\n",
    "import urllib2\n",
    "\n",
    "class HeadRequest(urllib2.Request):\n",
    "    def get_method(self): return \"HEAD\"\n",
    "    \n",
    "def get_real(url):\n",
    "    res = urllib2.urlopen(HeadRequest(url))\n",
    "    return res.geturl()"
   ]
  },
  {
   "cell_type": "code",
   "execution_count": 11,
   "metadata": {
    "collapsed": false,
    "deletable": true,
    "editable": true
   },
   "outputs": [],
   "source": [
    "###Cogemos las urls de un intervalo\n",
    "def get_urls(init, size):\n",
    "    d = {}\n",
    "    end = init + datetime.timedelta(minutes=size)\n",
    "    rw = te.find({'$and': [{'text':{\"$regex\" : 'http'}} ,{'created_at': {\"$gte\" : init}} ,{'created_at': {\"$lt\" : end}} ]})\n",
    "    for t in rw: \n",
    "        #web = re.search(\"(?P<url>https?://[^\\s]+)\", t['text']).group(\"url\") \n",
    "        #print get_real(web)\n",
    "        for w in t['entities']['urls']:\n",
    "            if w['expanded_url'] in d:\n",
    "                d[w['expanded_url']] = d[w['expanded_url']] + 1\n",
    "            else:\n",
    "                d[w['expanded_url']] =1\n",
    "    \n",
    "    return d\n",
    "init = datetime.datetime(2017, 1, 22, 0, 0)\n",
    "u = get_urls(init, 3600)"
   ]
  },
  {
   "cell_type": "code",
   "execution_count": 12,
   "metadata": {
    "collapsed": false,
    "deletable": true,
    "editable": true
   },
   "outputs": [
    {
     "data": {
      "text/plain": [
       "[]"
      ]
     },
     "execution_count": 12,
     "metadata": {},
     "output_type": "execute_result"
    }
   ],
   "source": [
    "sorted(u.items(), key=operator.itemgetter(1), reverse=True)\n",
    "    \n"
   ]
  },
  {
   "cell_type": "code",
   "execution_count": null,
   "metadata": {
    "collapsed": true,
    "deletable": true,
    "editable": true
   },
   "outputs": [],
   "source": []
  },
  {
   "cell_type": "code",
   "execution_count": 13,
   "metadata": {
    "collapsed": false,
    "deletable": true,
    "editable": true
   },
   "outputs": [
    {
     "name": "stdout",
     "output_type": "stream",
     "text": [
      "[(u'', 1), (u'ParigiRoubaix', 1), (u'MarcaEspa\\xf1a:', 1), (u'siria\\xbb', 1), (u'esINT', 1), (u'Venecia', 1), (u'Durant;', 1), (u'Honda', 1), (u'madera', 1), (u'CentroMadrid', 1), (u'RadiosUsadas', 1), (u'Andalucia', 1), (u'EUETS', 1), (u'Jerusal\\xe9n', 1), (u'Marcas', 1), (u'solidaridad', 1), (u'Beisbol', 1), (u'SNA', 1), (u'yihadistas?', 1), (u'rmadrid', 1), (u'CD9ViveEnSuburbia', 1), (u'Iron\\xeda', 1), (u'SacaElJugoATusRedes:5', 1), (u'MAN', 1), (u'Cibermentores:', 1), (u'noalaguerra', 1), (u'OriolBroggi', 1), (u'igualdad,', 1), (u'corrupci\\xf3n', 1), (u'Amazon', 1), (u'lacasadelosnegocios', 1), (u'Maduro.', 1), (u'TAKPOOL', 1), (u'GerardoVera', 1), (u'Aranjuez', 1), (u'bulto', 1), (u'cuidaelplaneta', 1), (u'StopCaza\\u2026', 1), (u'despilfarro', 1), (u'Bauman:', 1), (u'DigitalMarketing', 1), (u'cuota', 1), (u'Health', 1), (u'POPULAR', 1), (u'LeyViviendaPah', 1), (u'Getafe', 1), (u'Empleo', 1), (u'FerrariLand!', 1), (u'Mejor2', 1), (u'MARCAQuizSportshj.', 1), (u'LaConcertadaSegrega', 1), (u'HistoriaOficialDelAmor', 1), (u'CallOfDuty', 1), (u'Bilbao', 1), (u'Battistelli,', 1), (u'SaharaOccidental', 1), (u'HCapriles', 1), (u'Keratina', 1), (u'tesorodeAmotan', 1), (u'Tecnologia', 1), (u'exmachina', 1), (u'leedlo', 1), (u'Resistireis', 1), (u'deuda', 1), (u'Astorga', 1), (u'PrisonBreak', 1), (u'Calgaryfridays', 1), (u'ViolenciaMachista', 1), (u'calidad', 1), (u'RedesSociales.', 1), (u'JohannesPassion', 1), (u'marcaEspa\\xf1a?', 1), (u'Monterrey', 1), (u'PorqueLoDigoYo:\"A', 1), (u'deco', 1), (u'atenci\\xf3n', 1), (u'nsfw', 1), (u'cartasn\\xe1uticas', 1), (u'fit', 1), (u'Yihadistas', 1), (u'documentales', 1), (u'Egunkaria', 1), (u'EstuUCAM', 1), (u'publicrelations', 1), (u'RevistaDomingo.', 1), (u'BajateDelAuto', 1), (u'Cairo', 1), (u'FelizDomingo!', 1), (u'Confundido', 1), (u'vayaTropa\\u2026', 1), (u'FelizDomingo\\u2026', 1), (u'murcia', 1), (u'insultante', 1), (u'SemanaSanta2017,', 1), (u'smm', 1), (u'medicina', 1), (u'mileurista', 1), (u'BuenSabado', 1), (u'PorUnCrecimientoRacional', 1), (u'Lasso', 1), (u'AlianzadelPac\\xedficocharquero_m', 1), (u'delicious', 1), (u'drones', 1), (u'elche', 1), (u'TRADE', 1), (u'PirineoNavarro', 1), (u'publicaffairs', 1), (u'DesarmeETA', 1), (u'BradPitt', 1), (u'maluma', 1), (u'postre', 1), (u'Wololo', 1), (u'Egiptolog\\xeda', 1), (u'iciarbollain', 1), (u'BuenosD\\xedas', 1), (u'PSOE-Madrid:', 1), (u'Fecundacion', 1), (u'innovaci\\xf3n\\u2026', 1), (u'aapp', 1), (u'Jugones', 1), (u'cronicasindigenas', 1), (u'aspirina...', 1), (u'turismoresponsable', 1), (u'Logro\\xf1\\xe9s', 1), (u'MILF', 1), (u'Recre', 1), (u'DerbiCapital\\u2026', 1), (u'DerbiCapital.', 1), (u'icnitas', 1), (u'NoPenseisMal', 1), (u'QP', 1), (u'm\\xe9dicos', 1), (u'MercedesBenz,', 1), (u'S\\xedndromedeDown', 1), (u'PAS', 1), (u'radio', 1), (u'NoticiasInteresantes', 1), (u'EstaSemanaTrabajamosTuMarcaPersonal', 1), (u'emprender', 1), (u'VidaZen', 1), (u'RepasoSemana:', 1), (u'Jalisco', 1), (u'Boscos,', 1), (u'Bildu', 1), (u'EleccionesFrancia', 1), (u'Mindfulness', 1), (u'Carmena', 1), (u'destinos', 1), (u'marketing\\u2026', 1), (u'transistors', 1), (u'Arag\\xf3n', 1), (u'Trabajo\\xdatil', 1), (u'ghoststories', 1), (u'iglesia', 1), (u'Android', 1), (u'cMARCAQuizSports.', 1), (u'disrupci\\xf3n', 1), (u'Pol\\xedtica\\xdatil', 1), (u'Vivienda', 1), (u'womeninenergy', 1), (u'arToyoGama', 1), (u'paro?', 1), (u'NoConsuman', 1), (u'PSC', 1), (u'RitaGilligan?', 1), (u'Lider', 1), (u'marca\\u2026', 1), (u'Orgullo', 1), (u'PizzaDeliveryFail:', 1), (u'pasteles', 1), (u'trusa', 1), (u'felicidad', 1), (u'XlaHonestidad', 1), (u'Bal\\xf3nDividido', 1), (u'Animales', 1), (u'neuronas!', 1), (u'CE', 1), (u'fotografia', 1), (u'MessiDios', 1), (u'fondosdeinversi\\xf3n', 1), (u'artritis', 1), (u'Al\\xe9rtuxPautaOnline.', 1), (u'posverdad', 1), (u'ComercioJusto', 1), (u'Estrujante', 1), (u'semanasanta', 1), (u'futbol\\u2026', 1), (u'audionaestrada', 1), (u'diferencia', 1), (u'MamarFuerte', 1), (u'misagues\\u2026', 1), (u'Twitter.', 1), (u'BrandedContent\\u2026', 1), (u'Matem\\xe1ticas', 1), (u'Avila', 1), (u'GMcash', 1), (u'infancia', 1), (u'ERMMedia:', 1), (u'Carri\\xf3nVeteYa', 1), (u'pisostur\\xedsticos', 1), (u'pactoEducaci\\xf3n', 1), (u'LGBTI', 1), (u'exhibici\\xf3n.', 1), (u'ArmasQu\\xedmi\\u2026', 1), (u'halamadrid', 1), (u'LicenciadoMoreno,hablan', 1), (u'CX\\u2026', 1), (u'F\\xfatbol', 1), (u'copasamsung', 1), (u'yamaha', 1), (u'skyrocket\\U0001f680', 1), (u'OrgulloVenezolano', 1), (u'PonerseEnMarcha', 1), (u'desestabilizaci\\xf3n', 1), (u'tama\\xf1o', 1), (u'Coptos', 1), (u'Y_as\\xed.', 1), (u'BigLittleLies.', 1), (u'dinamismo', 1), (u'NoAcosoLaboralProfesReligi\\xf3n', 1), (u'Animal', 1), (u'PeruMira', 1), (u'bMARCAQuizSports.', 1), (u'educachat', 1), (u'honores', 1), (u'ElEconomistaes', 1), (u'humor', 1), (u'Euribor', 1), (u'Ampliamos', 1), (u'LoM\\xe1sVisto', 1), (u'vencerelcancer:', 1), (u'MarketingDigital', 1), (u'MARCAPlus', 1), (u'violencia', 1), (u'anime', 1), (u'HispanicSociety', 1), (u'CharlieSheen', 1), (u'regrann\\u2026', 1), (u'Pel\\xedculas', 1), (u'PDExperience', 1), (u'Pray', 1), (u'funcionariosdeprisiones?', 1), (u'transporte:', 1), (u'Personas', 1), (u'elpais,', 1), (u'YourNameMovie', 1), (u'coreadelnorte', 1), (u'Celtics', 1), (u'trusa.', 1), (u'm\\xe9rito', 1), (u'neomediapublicidad', 1), (u'HOT', 1), (u'poderosa', 1), (u'petr\\xf3leo', 1), (u'LNFG', 1), (u'SelenaGomez', 1), (u'sigloXXI', 1), (u'Porno', 1), (u'Cine', 1), (u'VamosC\\xe1diz', 1), (u'Bqto', 1), (u'Lleida', 1), (u'ver', 1), (u'Bilbao:', 1), (u'noticia', 1), (u'Futbol', 1), (u'peronismorociero.', 1), (u'FIA', 1), (u'klout', 1), (u'2017A\\xf1odelabarbarie', 1), (u'Paro?,', 1), (u'Lewandowski', 1), (u'alicante', 1), (u'NicolasMaduro', 1), (u'deber\\xedas', 1), (u'Latinoam\\xe9rica', 1), (u'MARCAgQuizSports.', 1), (u'MarcaEresTu\\u2026', 1), (u'Ford', 1), (u'Portaaviones', 1), (u'LasZocas', 1), (u'Pelayo', 1), (u'CarreraDeLaMujer', 1), (u'MarcaPa\\xeds', 1), (u'chatboots', 1), (u'aviacion', 1), (u'Laliga.', 1), (u'explosi\\xf3n', 1), (u'crisis', 1), (u'Producci\\xf3nUMH17', 1), (u'WrestleMania.', 1), (u'Retail', 1), (u'Publik_WC', 1), (u'ReinoUnido,', 1), (u'VillarrealAthletic', 1), (u'valores', 1), (u'Archivo', 1), (u'futfem', 1), (u'fornsbrasa', 1), (u'tomennota', 1), (u'NoMaltratoAnimal', 1), (u'TodoPorHacer', 1), (u'Daesh,', 1), (u'1', 1), (u'sunday', 1), (u'14A', 1), (u'NoAlEmbalseDeToros', 1), (u'UPNdice', 1), (u'BokoHaram\"\\u2026', 1), (u'LGTBFamily', 1), (u'deportiva', 1), (u'tecnologia', 1), (u'EficienciaEnerg\\xe9tica', 1), (u'RT', 1), (u'Vivlium', 1), (u'Minkowski', 1), (u'lasextadeportes', 1), (u'HRC', 1), (u'Burgos', 1), (u'malditos', 1), (u'delito.', 1), (u'ni\\xf1os', 1), (u'Empresas', 1), (u'SLE\\U0001f49f', 1), (u'LIGAAGUILAxWIN\\u2026', 1), (u'Madrid\\u2026', 1), (u'internet', 1), (u'F1!', 1), (u'amigos', 1), (u'Nouvelles', 1), (u'GuardiaCivil', 1), (u'Viraday', 1), (u'PansFood', 1), (u'marketingonline', 1), (u'innovaciones', 1), (u'Mercados', 1), (u'SSantaSevilla17', 1), (u'profesReligi\\xf3n', 1), (u'gamificacion', 1), (u'falsos', 1), (u'Mosc\\xfa', 1), (u'Medicina', 1), (u'ribeira', 1), (u'Sectores', 1), (u'prensa', 1), (u'Elefante', 1), (u'Sugerencias', 1), (u'LaVozKids4', 1), (u'Cobarde', 1), (u'inteligentes', 1), (u'felipistas', 1), (u'CafeComercial', 1), (u'marketingdigital\\u2026', 1), (u'marca,servicio', 1), (u'CasaBotines', 1), (u'Espa\\xf1a?Las', 1), (u'aragon', 1), (u'reclamar', 1), (u'ecojonante', 1), (u'formula1', 1), (u'Amunt', 1), (u'mercados', 1), (u'Clinica_Margen', 1), (u'JustinBieber', 1), (u'online', 1), (u'dMARCAQuizSports.', 1), (u'OhCapitanMiCapitan', 1), (u'gigapp2017', 1), (u'LiteraturaSaharaui', 1), (u'raulgonzalez', 1), (u'City\\u2026', 1), (u'motorland', 1), (u'Or\\xe1culosEnLosMedios', 1), (u'laboral', 1), (u'curiosidades', 1), (u'Discriminaci\\xf3n', 1), (u'ViernesDeSeductoras', 1), (u'ODS\\u2026', 1), (u'Verguenza', 1), (u'CyL', 1), (u'genius', 1), (u'narcotr\\xe1fico', 1), (u'cristianacopta', 1), (u'RedesSociales', 1), (u'Instagram', 1), (u'baratos', 1), (u'alimentaci\\xf3n', 1), (u'Funci\\xf3nPublica', 1), (u'Cr\\xedtica', 1), (u'ciclorama', 1), (u'vu\\u2026', 1), (u'economistas', 1), (u'Trashumancia,', 1), (u'hamr', 1), (u'Democracia?', 1), (u'mapas', 1), (u'ElPutoAmo', 1), (u'qubits', 1), (u'Youtube', 1), (u'HazQueSuceda', 1), (u'Torrija', 1), (u'ENDESA', 1), (u'Quevedo', 1), (u'elEconomistaes', 1), (u'CentroEspecialEmpleo', 1), (u'Proyecto', 1), (u'Eutanasia', 1), (u'62', 1), (u'arte', 1), (u'Mueva', 1), (u'consejos', 1), (u'C\\xf3rdoba', 1), (u'GranadaCF', 1), (u'HechoEnPachuca', 1), (u'rentaterapia', 1), (u'L6Nfinanciaci\\xf3nPP', 1), (u'ingeniero', 1), (u'cura', 1), (u'JuanSanguino', 1), (u'chollos', 1), (u'Ruanda', 1), (u'AID', 1), (u'Photoshop.', 1), (u'JuanRulfo', 1), (u'NSA', 1), (u'paz', 1), (u'XXX', 1), (u'TiempoDeJuegoYJam\\xf3n', 1), (u'corrupci\\xf3n,', 1), (u'AlianzadelPac\\xedficosara17almada', 1), (u'IA', 1), (u'Fiebre', 1), (u'OsasunaLegan\\xe9s.', 1), (u'hMARCAQuizSports.', 1), (u'ViolenciaDeG\\xe9nero', 1), (u'DonaMedula', 1), (u'suitandtiedad', 1), (u'ESPNFC', 1), (u'inception', 1), (u'Par\\xedsRoubaix2017', 1), (u'Elecciones2018.', 1), (u'entrenar', 1), (u'Bundesliga)', 1), (u'ElOlivo', 1), (u'LifeVida', 1), (u'PremiosV\\xeda', 1), (u'soledad.', 1), (u'velero', 1), (u'biling\\xfci\\u2026', 1), (u'FamiliasLGTB', 1), (u'coptas', 1), (u'bigdata', 1), (u'legal', 1), (u'ofertas', 1), (u'Sonora', 1), (u'business', 1), (u'Finanzas', 1), (u'fintech', 1), (u'Goya', 1), (u'Imagen', 1), (u'Persona5', 1), (u'Estu', 1), (u'deforestation\\u2026', 1), (u'empresa', 1), (u'DERECHOS', 1), (u'derolivenbaum\\u2026', 1), (u'ODS', 1), (u'L6Nlimiteshumor', 1), (u'Assad', 1), (u'Jerusal\\u2026', 1), (u'media', 1), (u'daddybulge', 1), (u'multitasking', 1), (u'Youtuber', 1), (u'BVSport.', 1), (u'Couture', 1), (u'CoreadelNorte', 1), (u'USA', 1), (u'IniSocialMediaPatrick', 1), (u'viralidad', 1), (u'as', 1), (u'memoriahistorica', 1), (u'SeHaLiadoUnRato', 1), (u'FP1', 1), (u'amigos\\u2026', 1), (u'MomentosJ15CL2017', 1), (u'madrid\\u2026', 1), (u'Ma\\u2026', 1), (u'c\\u2026', 1), (u'AsiSiCarmena', 1), (u'AmericaLatina', 1), (u'Alumnado.', 1), (u'BuenDomingo', 1), (u'Fiv', 1), (u'nibiru', 1), (u'acoso', 1), (u'laculturaesdetodos', 1), (u'Nombre', 1), (u'AEgiptolog\\xeda', 1), (u'anticorrupci\\xf3n', 1), (u'HorizonZeroDown', 1), (u'rivalAtleti,', 1), (u'JuanEchanove', 1), (u'ManuelVicent', 1), (u'SOSVenezuela', 1), (u'Docencia', 1), (u'BarrickGold', 1), (u'condoscojones', 1), (u'residuo', 1), (u'LaPreviadeMARCA!', 1), (u'100por100PSOE', 1), (u'D17_UNED', 1), (u'logotipo.', 1), (u'M\\xe1lagaFCB', 1), (u'Warriors', 1), (u'YOLO', 1), (u'texto', 1), (u'corto', 1), (u'Nigeria', 1), (u'StopDesahucios', 1), (u'V\\xedasLegalesYA', 1), (u'estr\\xe9s', 1), (u'Baseball', 1), (u'lecturadominical', 1), (u'Sr', 1), (u'NoticiasDelCampo', 1), (u'Polemica', 1), (u'esperanza', 1), (u'opini\\xf3n', 1), (u'Corrupcion', 1), (u'EnMadridConPedro', 1), (u'f1', 1), (u'EducacionEmpatica', 1), (u'fotograf\\xedas', 1), (u'ciberacoso.', 1), (u'fundacioportola', 1), (u'Keeley', 1), (u'ParisRobuaix', 1), (u'bolsa', 1), (u'PPrensaMordaza', 1), (u'Detestable', 1), (u'DerKlassiker', 1), (u'Coches', 1), (u'Democracia', 1), (u'motivaci\\xf3n', 1), (u'Liga123:', 1), (u'jugadoresconretraso', 1), (u'DENUNCIA', 1), (u'Fauna', 1), (u'AlivioComico', 1), (u'PROMO', 1), (u'Twitstorico', 1), (u'food', 1), (u'miedo', 1), (u'LoQueHayQueVer', 1), (u'pobrezainfantil', 1), (u'labeling', 1), (u'Inditex:As\\xed', 1), (u'\\xc1lava', 1), (u'WajdiMouawad,', 1), (u'visitas', 1), (u'domingoinfinito,', 1), (u'soledad', 1), (u'SEPE,', 1), (u'RentaTerapia:', 1), (u'PorUnPSOEganador\\u2026', 1), (u'GHVIPDIRECTO', 1), (u'La6Nl\\xedmiteshumor\\u2026', 1), (u'Hezbol\\xe1', 1), (u'pub', 1), (u'Ciclismo', 1), (u'Architecture', 1), (u'Opinion', 1), (u'libros', 1), (u'cdmx', 1), (u'Sorolla', 1), (u'ElSabadoPaLaCalle', 1), (u'Dalai', 1), (u'MarcaBolivia\\u2026', 1), (u'remax22', 1), (u'mundodeportivo\\u2026', 1), (u'ASCENSOBancomerMX.\\u2026', 1), (u'Yo0', 1), (u'DomingodeRamos:', 1), (u'paro', 1), (u'felipepelaez\\u2026', 1), (u'neuralgiadeltrig\\xe9mino', 1), (u'VidaSaludable', 1), (u'epilepsia', 1), (u'cambios', 1), (u'Atentado', 1), (u'DirectoGol', 1), (u'Samartcities', 1), (u'teja', 1), (u'Tinduf', 1), (u'arte\\u2026', 1), (u'vivalacultura', 1), (u'RaquelGagoInocente', 1), (u'marca...', 1), (u'Yemenguerra', 1), (u'administraci\\xf3np\\xfablica.', 1), (u'virus', 1), (u'yeswecan', 1), (u'Ventas', 1), (u'BrandValue', 1), (u'Renta2016.', 1), (u'lossumerios', 1), (u'chorizoalert', 1), (u'RICOMSevilla', 1), (u'publicidad', 1), (u'Catalu\\xf1a', 1), (u'Egoverment', 1), (u'carne', 1), (u'saludable', 1), (u'SUCESO', 1), (u'Coche', 1), (u'Aut\\xf3nomos', 1), (u'Fiat', 1), (u'PidoLaPalabraPorLaEducaci\\xf3n', 1), (u'Macas\\u2026', 1), (u'IVAcultural,', 1), (u'blogging', 1), (u'Navarra', 1), (u'MorganFreeman', 1), (u'NationalBeerDay', 1), (u'SiempreUtil', 1), (u'ASESINO\\U0001f480', 1), (u'Hogar\\u2026', 1), (u'hornosbrasa', 1), (u'Murcia.', 1), (u'Parados', 1), (u'individualismo', 1), (u'Investigaci\\xf3n', 1), (u'DesarrolloSostenible.', 1), (u'bienestar', 1), (u'lashistorietasdeargiro', 1), (u'siguemeytesigo', 1), (u'Resistir\\xe9is', 1), (u'Mercadeo', 1), (u'Supersticiones', 1), (u'europa', 1), (u'Zara', 1), (u'PaulWalker', 1), (u'Econ\\u2026', 1), (u'AtentadoEstocolmo7A', 1), (u'LegendsofTomorrow', 1), (u'bots', 1), (u'caidadelcabello', 1), (u'Magicline2017', 1), (u'PortAventura', 1), (u'TrancaContraElGolpe', 1), (u'TiempodeJuegoAlicante', 1), (u'nutricion', 1), (u'gobernandoelf\\u2026', 1), (u'Tecnologia\\u2026', 1), (u'Tecnologia:', 1), (u'Malparqueados', 1), (u'Lleida,', 1), (u'exportaci\\xf3n', 1), (u'elefantes', 1), (u'FreeGago', 1), (u'zaza', 1), (u'SeveBallesteros', 1), (u'Iglesia', 1), (u'PeterSaganCyclingAcademy', 1), (u'basta', 1), (u'soycristiano', 1), (u'NBA:', 1), (u'ImWithTheBand\\u2026', 1), (u'\\xdaLTIMAHORA', 1), (u'vergonya\\u2026', 1), (u'767', 1), (u'stopTerrorismo', 1), (u'discriminaci\\xf3n', 1), (u'abostonconmitre', 1), (u'GoPro', 1), (u'loslimitesdelhumor', 1), (u'reporterosdlsur', 1), (u'Fotograf\\xeda', 1), (u'semanasantamalaga', 1), (u'FPVCtes', 1), (u'communications', 1), (u'trabajo!', 1), (u'crucero', 1), (u'promoci\\xf3n', 1), (u'redes?', 1), (u'economia', 1), (u'arquitectos', 1), (u'gentrificat\\u2026', 1), (u'Karma', 1), (u'EternoCapit\\xe1n', 1), (u'CarrilloTraidor', 1), (u'Salud', 1), (u'DiNoAceiteDePalma', 1), (u'SaludMental.', 1), (u'HALAMADRIDYNADAMAS', 1), (u'CuidadosPaliativos.', 1), (u'OhMyLOLSONEG', 1), (u'D\\xc9POR', 1), (u'consumosentido', 1), (u'riosanluis\\u2026', 1), (u'zerowaste', 1), (u'NoVuelvenMas:van', 1), (u'posadaconfortexpress', 1), (u'Honduras', 1), (u'CarruselDeTapas', 1), (u'Africa', 1), (u'N\\xfameros', 1), (u'RealEstate', 1), (u'uber', 1), (u'\\xe1frica', 1), (u'nuevafunci\\xf3np\\xfablica', 1), (u'actores', 1), (u'reutilizaci\\xf3n', 1), (u'VamosMal', 1), (u'Lectura', 1), (u'Mitos', 1), (u'coches', 1), (u'AI', 1), (u'Murcia', 1), (u'Empresa', 1), (u'worldsbk', 1), (u'madeinJuarre\\xf1o', 1), (u'Sahara', 1), (u'quetiempotanfeliz', 1), (u'biling\\xfcismito', 1), (u'porunanuevafunci\\xf3np\\xfablica', 1), (u'Lara', 1), (u'deportes\\u26bd', 1), (u'DeportesColombianos', 1), (u'Cl\\xe1usulasSuelo', 1), (u'decoracion', 1), (u'fakenews', 1), (u'Mbigdata', 1), (u'dessert', 1), (u'ValenciaCF', 1), (u'SinDuda', 1), (u'ElPerezGaldosNoSeCierra', 1), (u'empresa.', 1), (u'Siria.', 1), (u'EdoMex', 1), (u'gorri\\xf3n', 1), (u'ValledeBenasque', 1), (u'DomingoDeRamos.', 1), (u'PregonSantaCruz', 1), (u'PatrimonioCulturalInmaterial', 1), (u'NoALaGuerra', 1), (u'AbelAzcona', 1), (u'prebenjamines', 1), (u'elisadelanuez', 1), (u'Guanare', 1), (u'resistir\\xe9is,', 1), (u'Nuskin.', 1), (u'HeradiaDimision', 1), (u'LecturaRecomendada:', 1), (u'casaci\\xf3n', 1), (u'motogp', 1), (u'marcacoorporativa', 1), (u'Bach', 1), (u'Alien', 1), (u'Siria\\xbb', 1), (u'hiperconectividad', 1), (u'Donald\\u2026', 1), (u'egypt', 1), (u'MujerIngenier\\xeda...', 1), (u'TaniaLlasera:', 1), (u'Ajenjo', 1), (u'FB', 1), (u'Tecnolog\\xeda', 1), (u'desaparecido', 1), (u'Egunkaria,', 1), (u'Presupuestos', 1), (u'\\xc1ngelesenAcci\\xf3n.', 1), (u'investigadores', 1), (u'estafa', 1), (u'hosteler\\xeda\\u2026', 1), (u'F\\u2026', 1), (u'Mi\\xc1ngelDeLosDomingos', 1), (u'dinosaurio', 1), (u'McLaren', 1), (u'porsacohastaelfinal', 1), (u'NormanFoster', 1), (u'GAMESA', 1), (u'pastissos', 1), (u'awesome\\u2026', 1), (u'911\\u2026', 1), (u'Denia', 1), (u'homeopatia', 1), (u'tecnol\\xf3gica', 1), (u'altascapacidades', 1), (u'turistificaci\\xf3n', 1), (u'Cycling', 1), (u'comptadorsSocials', 1), (u'RecruiterForum', 1), (u'ImaginariosAlimentarios', 1), (u'HistoriaOficialdelAmor', 1), (u'eutanasia', 1), (u'CumulonimboIncus', 1), (u'maquillaje', 1), (u'2017', 1), (u'Primate', 1), (u'Miami', 1), (u'RMCF', 1), (u'TrabajoDisfrutable', 1), (u'bots\"', 1), (u'VIH', 1), (u'moda', 1), (u'Etologia', 1), (u'WAZE', 1), (u'democracia', 1), (u'agricultura', 1), (u'RealValladolidC\\xf3rdoba', 1), (u'Bassil', 1), (u'Keynesianismo', 1), (u'Gu\\xeda', 1), (u'SevillaFC', 1), (u'Par\\xedsRoubaix', 1), (u'pinksocks...', 1), (u'Facebook?', 1), (u'Lama', 1), (u'prefabricacion', 1), (u'WTCC:', 1), (u'Productividad', 1), (u'ResidencialAlpha', 1), (u'Crecimiento', 1), (u'management', 1), (u'HostolesAMERCF', 1), (u'RRSS', 1), (u'Hirst\\u2026', 1), (u'williamlevy', 1), (u'JrFLLM\\xe9xico', 1), (u'halamadridynadamas', 1), (u'Lanzarote', 1), (u'LabIntroRRII', 1), (u'CiudadesInteligentes', 1), (u'8Abr\\u2026', 1), (u'Malagabarca', 1), (u'vacaciones', 1), (u'LaPeviadeMARCA', 1), (u'Twitter,', 1), (u'health20bsas', 1), (u'Pira', 1), (u'Reserva', 1), (u'C\\xe1ncer', 1), (u'Repsol', 1), (u'Soledad\",', 1), (u'PorqueLosAnimalesImoportan', 1), (u'CuerdaFloja...Pero..Los', 1), (u'Messi,', 1), (u'plantea', 1), (u'LinkedIn,', 1), (u'SecretoDeSumario', 1), (u'NierAut\\xf3mata', 1), (u'especies!,', 1), (u'goniometros', 1), (u'muertos,', 1), (u'Mensajero', 1), (u'Stories', 1), (u'GPS', 1), (u'portada', 1), (u'Atenci\\xf3n', 1), (u'uniformes', 1), (u'industrializacion', 1), (u'PonunConsejeroPatrimonialentuvida', 1), (u'VzlaEnLuchaYResistencia', 1), (u'PrimeraPlana.', 1), (u'FIFA', 1), (u'inteligenciaArtificial', 1), (u'PP', 1), (u'Nicho', 1), (u'Emociones', 1), (u'depresi\\xf3n', 1), (u'PC', 1), (u'Harvard', 1), (u'nutrici\\xf3n', 1), (u'PD', 1), (u'portadas', 1), (u'experiencia', 1), (u'Alicante', 1), (u'EFE', 1), (u'DatosOficiales', 1), (u'bar\\xe7a', 1), (u'SeguroTeDiviertes!', 1), (u'MareaRosa', 1), (u'turismosostenible', 1), (u'Orangutan', 1), (u'Alpujarra', 1), (u'appdesalud', 1), (u'Guagua', 1), (u'uMARCAQuizSports.', 1), (u'AbostonConMitre', 1), (u'tottarragona', 1), (u'forestal', 1), (u'escritoresmexicanos', 1), (u'Actualidad', 1), (u'Melilla', 1), (u'medicinal', 1), (u'9Abril', 1), (u'OrgullValenci\\xe0', 1), (u'caprilesCorruptoLADR\\xd3N', 1), (u'saharaoccidental', 1), (u'miedooscuridad', 1), (u'As\\xedNoJuanCruz', 1), (u'tcursosgratuitos', 1), (u'terrorism', 1), (u'VILLALVAZO13', 1), (u'Movilidad', 1), (u'Carnaval', 1), (u'Miguel\\xc1ngelBlanco', 1), (u'lupus', 1), (u'MalaNoticia', 1), (u'bannerdestacado', 1), (u'LigaFemenina\\u2026', 1), (u'prematuros', 1), (u'Gourmet', 1), (u'daddy10', 1), (u'Por13Razones...', 1), (u'Historiaoficialdelamor', 1), (u'destruimos', 1), (u'mezcal', 1), (u'FONASAdeVazquez', 1), (u'StarTrek', 1), (u'WhatFoodMeans', 1), (u'Noalaguerra.', 1), (u'ElP\\xe9rezNoSeCierra', 1), (u'pies', 1), (u'MAhdRCAQuizSports.', 1), (u'BVB', 1), (u'PrimeroEcuador.', 1), (u'China,', 1), (u'HacemosMarketing', 1), (u'MalagaCF', 1), (u'PrayForEgypt', 1), (u'privacidad', 1), (u'deportes4', 1), (u'PorSiTeLoPerdiste', 1), (u'saganrules', 1), (u'pseudoterapias', 1), (u'formaci\\xf3n', 1), (u'Alzheimer', 1), (u'recomendablelectura', 1), (u'BolognaRoma', 1), (u'elprat', 1), (u'residuocero', 1), (u'econom\\xeda', 1), (u'JorgeSalinas!', 1), (u'Le\\xf3n', 1), (u'PPrensaMordaza\\u2026', 1), (u'cl\\xe1usulacero,', 1), (u'Videojuegos', 1), (u'machinelearning', 1), (u'EnPortada:', 1), (u'PMD', 1), (u'RAW!', 1), (u'Chile', 1), (u'EstadoIslamico', 1), (u'gluten', 1), (u'condenado', 1), (u'Publicidad', 1), (u'datos', 1), (u'2\\xaaB', 1), (u'pesadilla', 1), (u'rrss', 1), (u'CIA', 1), (u'Pucela', 1), (u'diplomas', 1), (u'tecnolog\\xeda', 1), (u'esclerosismultiple', 1), (u'hygge', 1), (u'BuscoMiHeroe', 1), (u'comunio', 1), (u'INDITEX', 1), (u'diabetes\".', 1), (u'sostenible', 1), (u'millones', 1), (u'blogs', 1), (u'4r', 1), (u'DataScience', 1), (u'ideasenconstruccion', 1), (u'COPAOFI', 2), (u'DamienHirst', 2), (u'Cicpc', 2), (u'Nasdaq', 2), (u'Uni\\xf3nPuerto', 2), (u'estudioEstadio', 2), (u'Etica', 2), (u'TerceraGuerraMundial', 2), (u'Rosgui', 2), (u'LeonEstaDeModa', 2), (u'Hogar', 2), (u'pl\\xe1stico', 2), (u'PodemosSinRumbo', 2), (u'ConcursoClipset', 2), (u'JoseCouso', 2), (u'socialmedia', 2), (u'Construcci\\xf3n', 2), (u'AbogadosdeAtocha', 2), (u'terrorismomachista', 2), (u'vinos', 2), (u'sistemaeducativo', 2), (u'SemanaSanta2017\\u2026', 2), (u'28A\\xf1osPRD', 2), (u'DanielaGanadora', 2), (u'Cs,', 2), (u'Macrilandia', 2), (u'MujerIngenier\\xeda', 2), (u'matem\\xe1ticas;', 2), (u'Comunicaci\\xf3nEmocional', 2), (u'Alejandr\\xeda,', 2), (u'DerbiCapital!', 2), (u'LANDROVER', 2), (u'Celta', 2), (u'BRANDING', 2), (u'CDAvEDM', 2), (u'SanMarcos', 2), (u'Bella', 2), (u'An\\xfanciate', 2), (u'infografia', 2), (u'news', 2), (u'Envivo', 2), (u'Aramburu', 2), (u'Gorrioners', 2), (u'FifthHarmony', 2), (u'Rajoy', 2), (u'Navarra,', 2), (u'menospastillasmasterapia', 2), (u'SALUD', 2), (u'Nosondefiar', 2), (u'Polonia', 2), (u'ss17', 2), (u'Tenisca', 2), (u'LigaACB', 2), (u'Hungr\\xeda', 2), (u'PisosTur\\xedstics', 2), (u'espana', 2), (u'WRC\\u2026', 2), (u'GrupoIV\\u2026', 2), (u'logro\\xf1esnaxara', 2), (u'BacharAlAssad', 2), (u'ELEconomista', 2), (u'Europa', 2), (u'correlacionoescausaci\\xf3n', 2), (u'viajes', 2), (u'AySe\\xf1orQueCruz', 2), (u'350YA', 2), (u'cereales', 2), (u'Granada', 2), (u'estarinformado', 2), (u'EU60', 2), (u'mole', 2), (u'Castell\\xf3n', 2), (u'8Abril', 2), (u'digital', 2), (u'HaceUnA\\xf1o', 2), (u'RSLvVAN', 2), (u'manituristas', 2), (u'Renta', 2), (u'Sensual', 2), (u'PCE', 2), (u'Francia', 2), (u'configuroweb', 2), (u'SSanta17', 2), (u'televisi\\xf3n', 2), (u'Defend', 2), (u'discriminacion', 2), (u'YouKnowYouLoveThem', 2), (u'CER.', 2), (u'RealidadVirtual', 2), (u'VladimirPutin', 2), (u'mar', 2), (u'Storytelling', 2), (u'RD', 2), (u'Calidad\\u2026', 2), (u'sorteo', 2), (u'VenALeon', 2), (u'Patria', 2), (u'desarmeeta', 2), (u'Atl\\xe9ticoTucuman', 2), (u'Madrid.', 2), (u'LunicaPassioNoble', 2), (u'VamosGetaB', 2), (u'REDucaci\\xf3n', 2), (u'rappilover', 2), (u'NoAlTerrorismo', 2), (u'videojuegos', 2), (u'Auditor\\xeda', 2), (u'recomiendo', 2), (u'morelos', 2), (u'ideas', 2), (u'terrorismo', 2), (u'escuelascreativasadria', 2), (u'xISDI', 2), (u'iglesias_coptas', 2), (u'espa\\xf1ol', 2), (u'RTVE', 2), (u'Magirus', 2), (u'Siempre\\xdatil', 2), (u'neurociencia.', 2), (u'notoriedad', 2), (u'ModusOperandi', 2), (u'rugby', 2), (u'psicolog\\xeda', 2), (u'Primatologia', 2), (u'MotoGP', 2), (u'SiEsSi', 2), (u'SemanaSantaSegura2017', 2), (u'Canarias\\u2026', 2), (u'yihad', 2), (u'RealAcademia_Ingenieria', 2), (u'Fitnees', 2), (u'Montevideo', 2), (u'Bolsa', 2), (u'Cosecha17', 2), (u'Bosnia', 2), (u'Barcelona', 2), (u'thejesusandmarychain...', 2), (u'Cdigital_INTEF', 2), (u'Mallorca.\\u2026', 2), (u'Homeland?', 2), (u'IoT', 2), (u'Biodiversidad', 2), (u'eutanasia,', 2), (u'roaming', 2), (u'WRC', 2), (u'ElCairo', 2), (u'liderazgo', 2), (u'Torremolinos', 2), (u'reputaci\\xf3ndigital', 2), (u'LeyGolpist\\u2026', 2), (u'Arquitectura\\u2026', 2), (u'contagio', 2), (u'emprendedores', 2), (u'Hyundai', 2), (u'Espa\\xf1a.', 2), (u'turbocharge\\u2026', 2), (u'NintendoSwitch.', 2), (u'zaragoza', 2), (u'Cotizacion', 2), (u'obsequios', 2), (u'PSOE-Madrid:anunciado', 2), (u'InteligenciaEmocional', 2), (u'Brasil', 2), (u'Marat\\xf3nComPol', 2), (u'Eibar', 2), (u'aspirina,', 2), (u'Despampanante', 2), (u'Isis', 2), (u'ChileReport', 2), (u'Atletismo', 2), (u'deporte', 2), (u'Rusia', 2), (u'depresi\\xf3n,', 2), (u'LizzieBorden', 2), (u'etwinning', 2), (u'gorri\\xf3n?', 2), (u'UltimaHora', 2), (u'hotel', 2), (u'Habitatge\\xc9sDret', 2), (u'golondrinas', 2), (u'Food', 2), (u'DecreixementTur\\xedstic', 2), (u'Google', 2), (u'animales', 2), (u'Egypt', 2), (u'Automotive', 2), (u'MIBers', 2), (u'CuerdaFloja', 2), (u'Gaud\\xed:', 2), (u'Eleconomista', 2), (u'Djath', 2), (u'Riesgo', 2), (u'startup', 2), (u'Cr\\xf3nica', 2), (u'investigacion', 2), (u'recurrir', 2), (u'canonaede', 2), (u'BuenVivir', 2), (u'LigaFemenina', 2), (u'SoySeductora', 2), (u'TipEmprendedor', 2), (u'PorLaNegativa', 2), (u'SempreAmunt', 2), (u'quesesepa', 2), (u'Valors', 2), (u'FelizSabado', 2), (u'jiutepec', 2), (u'ACB', 2), (u'residuos', 2), (u'muyinteresante', 2), (u'Leon', 2), (u'ArmasQu\\xedmicas', 2), (u'mikeliturriaga', 2), (u'manag\\u2026', 2), (u'ParisMarathon.', 2), (u'heridos', 2), (u'D\\xedaMundialDeLaSalud', 2), (u'morosidad,', 2), (u'SRF2017', 2), (u'Le\\xf3n,', 2), (u'Indice', 2), (u'Miner\\xedaIlegal', 2), (u'Expresiones', 2), (u'Espana', 2), (u'MejorConCopas\\u2026', 2), (u'leonesp', 2), (u'4taRevoluci\\xf3nIndustrial', 2), (u'sexo', 2), (u'neurociencia', 2), (u'educaci\\u2026', 2), (u'DiaMundialdelaSalut', 2), (u'tur\\xedstica', 2), (u'LeyViviendaPAH', 2), (u'Herramientas', 2), (u'Ir\\xe1n', 2), (u'MarcMarquez\\u2026', 2), (u'ArgentinaGP', 2), (u'copta', 2), (u'Pr\\u2026', 2), (u'exclusion', 2), (u'FelizDomin\\u2026', 2), (u'Acciones', 2), (u'TierraDeSabor.', 2), (u'SiesSi.', 2), (u'Neymar', 2), (u'UnaSolaFuerza', 2), (u'recomendable', 2), (u'Vera', 2), (u'MedioAmbiente', 2), (u'Iraq', 2), (u'cristianas', 2), (u'SoyCorredorDeSeguros', 2), (u'empleo', 2), (u'Innovaci\\xf3n', 2), (u'MarcaBarcelona,', 2), (u'MatinalesElPa\\xeds!', 2), (u'Oposiciones', 2), (u'TenerifeB', 2), (u'SocialMedia\\u2026', 2), (u'DanielLarriqueta:', 2), (u'Aprendizajemaquinas', 2), (u'R\\xedo', 2), (u'ipagricolacbba.', 2), (u'Sexy', 2), (u'Ser\\u2026', 2), (u'DomingoDeGramos', 2), (u'Semanasanta', 2), (u'HornoSanBuenaventura', 2), (u'publi', 2), (u'fotograf\\xeda', 2), (u'diabetes', 2), (u'Branding', 2), (u'Argentina', 2), (u'TorresCol\\xf3n', 2), (u'escritor.', 2), (u'Documento', 2), (u'OSP', 2), (u'SindromeDeDown', 2), (u'mareaverde', 2), (u'GuerraALasEl\\xe9ctricas', 2), (u'fiumers', 2), (u'Tiranizacion,', 3), (u'\"Trate', 3), (u'EmartSoccerPRO', 3), (u'Buzanada', 3), (u'OpenPrimavera', 3), (u'MasAllaTourCuyoArg', 3), (u'CristoVienePronto', 3), (u'Buscale', 3), (u'Colombia', 3), (u'LF', 3), (u'AldodeNigris', 3), (u'LaRoja', 3), (u'Polic\\xeda', 3), (u'ingenier\\xeda', 3), (u'LaLiga.', 3), (u'HazteOirHackeado', 3), (u'LaPreviadeMARCA', 3), (u'Al\\xe9rtuxPautaOnline', 3), (u'Historia', 3), (u'branding', 3), (u'marca?', 3), (u'ElIngenioDeLosP\\xe1jaros', 3), (u'CeltaEibar', 3), (u'SINFindeSemana', 3), (u'MilanPalermo\\u2026', 3), (u'LHospitalet', 3), (u'Brexit', 3), (u'CoreadelSur', 3), (u'PorqueLosAnimalesImportan', 3), (u'RevistaDomingo', 3), (u'Sewol', 3), (u'pymes', 3), (u'Shakespeare', 3), (u'Memoria', 3), (u'Tabasco', 3), (u'Ecuador', 3), (u'ferri', 3), (u'dilema', 3), (u'CoreaDelNorte', 3), (u'innovacion\\u2026', 3), (u'CadaVezMasIguales\\U0001f44f\\U0001f44f\\u2026', 3), (u'sanidad', 3), (u'ToyotaEsToyota', 3), (u'BTS,', 3), (u'Santander', 3), (u'SiSePuede', 3), (u'infograf\\xeda', 3), (u'Uruguay', 3), (u'PGE17', 3), (u'siria', 3), (u'MBFWMx', 3), (u'deportes', 3), (u'SemanaSanta2017', 3), (u'Salvados', 3), (u'IS', 3), (u'Podemos', 3), (u'CaretasFuera', 3), (u'ELPAIS', 3), (u'inteligenciaemocional', 3), (u'salud,', 3), (u'Valladolid', 3), (u'LoNuevo', 3), (u'Pepe', 3), (u'Publicidad\\u2026', 3), (u'Ferrocarrilpublicoysocial', 3), (u'ViajeSeguro', 3), (u'SportsCenter', 3), (u'La1', 3), (u'SabadoDeSeduccion', 3), (u'educacion', 3), (u'invisibilizaci\\xf3n', 3), (u'ThisIsLiving.https://t.co/On85hQAxHz', 3), (u'Tenis', 3), (u'boicotfissure', 3), (u'elmundo', 3), (u'MIR', 3), (u'piraguismo', 3), (u'quesosartesanos', 3), (u'terap\\xe9utico', 3), (u'SiriaResiste', 3), (u'Marcos13:8', 3), (u'Somossocialistas', 3), (u'UCL', 3), (u'artefacto', 3), (u'egipto', 3), (u'vipdirecto', 3), (u'QueNoSeRepita', 3), (u'sostenibilidad', 3), (u'USYaiza', 3), (u'innovaci\\xf3n', 3), (u'kayak', 3), (u'multiaventura', 3), (u'PartidoComunistaEspa\\xf1ol', 3), (u'DEP', 3), (u'MarcaEresTu', 3), (u'TourdeCorse', 3), (u'ComienzoDeDolores', 3), (u'inmobiliario', 3), (u'womenInTech', 3), (u'TavernKrom', 3), (u'Neymar,', 3), (u'Portadas', 3), (u'SacaElJugoATusRedes:25', 3), (u'motor', 3), (u'\\u2026', 3), (u'Bosnia\"', 3), (u'Patriarchy', 3), (u'TristeAficion\\u2026', 3), (u'DonaldTrump', 3), (u'ajedrez', 3), (u'cristianofobia.', 3), (u'stopalfoc\\u2026', 3), (u'AntonioLamela', 3), (u'revolucion\\u2026', 3), (u'HerediaDimisi\\xf3n', 3), (u'Eurovision', 3), (u'9deAbril', 3), (u'mujeresEnTecnologia', 3), (u'Horror', 3), (u'SmartCity', 3), (u'estiba', 3), (u'patriarcado', 3), (u'Estocolmo', 3), (u'modernizaci\\xf3n', 3), (u'stoptransfobia', 3), (u'ISIS.', 3), (u'Depresion', 3), (u'Esquinacuatroojos.', 3), (u'Venex', 3), (u'Liderazgo3.0:', 3), (u'Lamela.', 3), (u'VisitTenerife', 3), (u'marcapersonal...\\xbfT\\xfa', 3), (u'PLAY', 3), (u'NoCustodiaConMaltrato', 3), (u'VeteDeViaje', 4), (u'EtaAsesina.', 4), (u'PorElClima', 4), (u'MapaDigital', 4), (u'VuelvealPara\\xedso.', 4), (u'T\\xe1chira', 4), (u'P\\xe1tzcuaro,', 4), (u'Milan', 4), (u'Educaci\\xf3n', 4), (u'hermandades', 4), (u'galicia', 4), (u'leonesp,', 4), (u'eTwinning', 4), (u'Caracas', 4), (u'marcas', 4), (u'Ahora', 4), (u'DEPAdrian', 4), (u'Torremolin\\u2026', 4), (u'atentados', 4), (u'm\\xe1laga', 4), (u'EnDesarrollo', 4), (u'Facebook', 4), (u'CDMX', 4), (u'RealMadrid', 4), (u'Deporte', 4), (u'SkamSeason4', 4), (u'ViolenciaDeGenero,', 4), (u'igualdad', 4), (u'PresupuestosCM17', 4), (u'INEGI\\u2026', 4), (u'Asturias', 4), (u'SomosSocialistas', 4), (u'PortadaTroll', 4), (u'algunascombinantodofatal\\u2026', 4), (u'torero', 4), (u'ciencia', 4), (u'Valencia', 4), (u'fm', 4), (u'SSOndaluz\\u2026', 4), (u'Albacete', 4), (u'broadcasting\\u2026', 4), (u'EEUU', 4), (u'SEVENTEEN', 4), (u'CambioClim\\xe1tico', 4), (u'Oaxaca,', 4), (u'PIB', 4), (u'EstadoIsl\\xe1mico', 4), (u'CotaTips', 4), (u'FPDual', 4), (u'Michoac\\xe1n.', 4), (u'arquitectura', 4), (u'3D', 4), (u'Wyoming.', 4), (u'CarlosLoret', 4), (u'Pucela\\u2026', 4), (u'IglesiaCopta', 4), (u'Alike', 4), (u'\\uc138\\ube10\\ud2f4', 4), (u'Am\\xe9ricaLatina', 4), (u'HalaMadrid', 4), (u'GirlsCount', 4), (u'UE', 4), (u'25a\\xf1osAVE', 4), (u'Nouvelles\\u2026', 4), (u'Fascismo', 4), (u'Operaci\\xf3nGladio', 4), (u'Deportes\\u26bd', 5), (u'M\\xe1laga', 5), (u'pol\\xedtica', 5), (u'el\\xe9ctricas', 5), (u'Curiosidades', 5), (u'comunicaci\\xf3n', 5), (u'YoJuegoAlFantasy', 5), (u'DytectiveforSamsung', 5), (u'MarcaEspa\\xf1a', 5), (u'AVEderroche', 5), (u'As\\xedNoManuela.', 5), (u'Lastre', 5), (u'Marketing', 5), (u'MirafloresEsDelPueblo', 5), (u'themasters', 5), (u'Centrismo', 5), (u'Seguridad', 5), (u'DDHH', 5), (u'OsasunaLegan\\xe9s\\u2026', 5), (u'nosomosayudantesdenadie', 5), (u'Baiona', 5), (u'AlianzadelPac\\xedfico', 5), (u'NegociosEE', 5), (u'yemenwar', 5), (u'Leonesp', 5), (u'Internacional', 5), (u'educacion\\u2026', 5), (u'ligaadulterada', 5), (u'imprescindible', 5), (u'DestinoTur\\xedstico\\u2026', 5), (u'Baloncesto', 5), (u'Almer\\xeda', 5), (u'City', 5), (u'atentado', 5), (u'SocialMedia', 5), (u'Renta2016', 5), (u'NoDejesDeLeer', 5), (u'Adrian', 5), (u'FelizAbrilNoticiero', 5), (u'women', 5), (u'Video', 5), (u'LoM\\xe1sLe\\xeddo', 5), (u'machismo', 5), (u'DytectiveU\\u2026', 5), (u'DecadaGanada', 5), (u'Daesh', 5), (u'LEBOro', 5), (u'sosprisiones', 5), (u'EducarMola', 5), (u'girlscount', 5), (u'INVTICUA17', 6), (u'Gaud\\xed', 6), (u'Besame', 6), (u'Trump', 6), (u'Cogeme', 6), (u'MarcaPersonal', 6), (u'DEPAdri\\xe1n', 6), (u'LecturaRecomendada', 6), (u'DesperdicioDeAlimentos', 6), (u'noticiasEspa\\xf1a', 6), (u'LaPol\\xe9mica', 6), (u'\\xe9xito', 6), (u'ligaadulterada\\u2026', 6), (u'Xalapa', 6), (u'ElDato', 6), (u'Ciudad', 6), (u'Veracruz', 6), (u'Presupuestos2017', 6), (u'discapacidad', 6), (u'SSSalamanca', 6), (u'GeekGirls', 6), (u'm\\xfasica', 6), (u'Seducir', 6), (u'20minutos', 6), (u'posicionamiento', 6), (u'AtentadoEgipto', 6), (u'E\\u2026', 6), (u'NuclearNoGracias', 6), (u'cultura', 6), (u'ProfesReligi\\xf3n', 6), (u'turismo', 6), (u'derbi', 6), (u'yusteyvelascodimision', 6), (u'salud', 6), (u'ejercicio', 6), (u'VentajaCompetitiva,', 6), (u'Renovables\\u2026', 6), (u'F\\xfatbolEmotion', 6), (u'cine', 6), (u'laqueseavecina', 6), (u'NoticiasEspa\\xf1a', 6), (u'apps', 6), (u'feedly', 6), (u'Tocame', 6), (u'creatividad', 7), (u'IgualdadDeG\\xe9nero', 7), (u'Terrorismo', 7), (u'Cuba', 7), (u'marketing', 7), (u'ElDesarmeElCircoDeETA', 7), (u'cat\\xf3lica', 7), (u'iglesias', 7), (u'MilanPalermo', 7), (u'imagenpa\\xeds', 7), (u'madrid', 7), (u'elmundotoday', 7), (u'Mercosur', 7), (u'SindromedeDown', 7), (u'Resistir\\xe9is,', 7), (u'Econom\\xeda', 7), (u'periodismo', 7), (u'ISIS', 7), (u'TourdeCorseWRC\\u2026', 8), (u'fmdx', 8), (u'Chacao,', 8), (u'Intolerable', 8), (u'dignidad', 8), (u'SinPalabras', 8), (u'INTERNACIONAL', 8), (u'Tercera', 8), (u'vencimientoanticipado', 8), (u'marcapersonal', 8), (u'O2O', 8), (u'destacada', 8), (u'OrlandoGuaita2017', 8), (u'justicia', 8), (u'TGR', 8), (u'LaPortada', 8), (u'Deportes', 8), (u'StopLGTBIfobia', 8), (u'EstudioEstadio', 8), (u'interesante', 8), (u'ecologia', 8), (u'Mexico', 8), (u'M\\xe9xico', 8), (u'CopaAMP', 8), (u'tablondeanuncios', 8), (u'beINLaLiga', 8), (u'HerediaDimiteYa', 8), (u'SolyPlaya', 8), (u'cristiana', 8), (u'Pol\\xedtica\\xdatil\\u2026', 8), (u'NBA...', 9), (u'Afrodescendiente', 9), (u'memoria', 9), (u'stopalfoc', 9), (u'Guaire', 9), (u'CulturaAfricana', 9), (u'Am\\xe9rica', 9), (u'NewsSuite', 9), (u'Domingoderamos', 9), (u'Noticias', 9), (u'LaLiga\\u2026', 10), (u'LasPortadas', 10), (u'DerbiCapital,', 10), (u'Adri\\xe1n...no', 10), (u'SemanaSanta', 10), (u'torero!', 10), (u'ServicioSocial', 10), (u'LaGuerradeTrump.', 10), (u'Marca', 10), (u'SJvSEA', 10), (u'TransformacionDigital', 10), (u'ParisRoubaix', 10), (u'funcionarios', 10), (u'ETA', 10), (u'pol\\xedticos', 11), (u'9Abr', 11), (u'pagar\\xe1n', 11), (u'antifa', 11), (u'Resistencia', 11), (u'republic', 11), (u'el_pais', 11), (u'Sostenibilidad', 11), (u'Espa\\xf1a', 11), (u'worldw\\u2026', 11), (u'crowdfunding', 11), (u'indiegogo\\u2026', 11), (u'Turismo', 11), (u'sueldo', 11), (u'educaci\\xf3n', 11), (u'40PCELegal', 12), (u'innovacion', 12), (u'CadaVezMasIguales', 12), (u'As\\xed', 12), (u'trabajadores', 12), (u'NBA', 12), (u'As\\xedNoManuela\"', 12), (u'marca', 12), (u'Venezuela', 12), (u'WasapJB', 12), (u'PL', 12), (u'DEPadrian', 12), (u'AulaCorto', 13), (u'mujeres', 13), (u'Post', 13), (u'RRHH\\u2026', 13), (u'Egipto\\u200b:', 13), (u'Blog', 13), (u'vamospinto', 13), (u'Branding\\u2026', 13), (u'isl\\xe1mico', 13), (u'extremismo', 13), (u'TipPGJ', 13), (u'RRHH', 13), (u'LNFS', 14), (u'Vettel', 14), (u'FIA\\u2026', 14), (u'c\\xe1ncer', 14), (u'20Minutos', 14), (u'Motor', 14), (u'Campo', 14), (u'aut\\xf3nomos', 15), (u'CheapThrills,', 15), (u'Alejandria', 15), (u'Ferrari', 16), (u'ChineseGP', 16), (u'LigaEndesa', 17), (u'News', 17), (u'CICPC', 18), (u'oposiciones', 18), (u'Siria', 19), (u'T\\u2026', 19), (u'FelizDomingo', 19), (u'Fichajes', 20), (u'PrimeraPlana', 21), (u'Actualizamos', 21), (u'ww2', 22), (u'viral', 22), (u'wwii', 22), (u'DomingodeRamos', 22), (u'Premier', 23), (u'MLB', 23), (u'MARCAQuizSports.', 23), (u'CommunityManager', 24), (u'Bundesliga', 24), (u'Desarme', 25), (u'Economia', 25), (u'DomingoDeRamos', 26), (u'Madrid', 26), (u'As\\xedNoManuela', 27), (u'Egipto,', 28), (u'PSOE', 28), (u'noticias', 28), (u'ElPais', 30), (u'CambioClim\\xe1tico,', 31), (u'valelectura', 33), (u'As\\xedNoManuela;', 35), (u'EnLaJugada', 36), (u'GPChina', 36), (u'14anosconCouso\\u2026', 37), (u'ultimahora', 37), (u'ElMundo', 39), (u'F1', 41), (u'Egipto:', 45), (u'ElEconomista', 46), (u'Playfulbet', 72), (u'Ligue1', 73), (u'As\\xedNo\\xcd\\xf1igo,', 79), (u'SerieA', 89), (u'DerbiCapital', 99), (u'emergencia.', 114), (u'Egipto', 144), (u'CRubioMartinezU', 225), (u'CRUZEIRO!', 277), (u'LaLiga', 310)]\n"
     ]
    }
   ],
   "source": [
    "###Creamos rangos y cogemos lo más visitado\n",
    "d = {}\n",
    "for a in te.find({'$and': [{'text':{\"$regex\" : '#'}} ,{'created_at': {\"$gt\" : dia_inicio}} ]},  { 'text': 1}):\n",
    "\ts = a['text']\n",
    "\tfor ht in  [b.strip('#') for b in s.split() if b.startswith(\"#\")]:\n",
    "\t\tif ht not in d:\n",
    "\t\t\td[ht] = 1\n",
    "\t\telse:\n",
    "\t\t\td[ht] = d[ht] + 1\n",
    "trending = sorted(d.items(), key=operator.itemgetter(1))\n",
    "print trending\n"
   ]
  },
  {
   "cell_type": "code",
   "execution_count": null,
   "metadata": {
    "collapsed": true,
    "deletable": true,
    "editable": true
   },
   "outputs": [],
   "source": []
  }
 ],
 "metadata": {
  "anaconda-cloud": {},
  "kernelspec": {
   "display_name": "Python 2",
   "language": "python",
   "name": "python2"
  },
  "language_info": {
   "codemirror_mode": {
    "name": "ipython",
    "version": 2
   },
   "file_extension": ".py",
   "mimetype": "text/x-python",
   "name": "python",
   "nbconvert_exporter": "python",
   "pygments_lexer": "ipython2",
   "version": "2.7.13"
  }
 },
 "nbformat": 4,
 "nbformat_minor": 1
}
