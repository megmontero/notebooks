{
 "cells": [
  {
   "cell_type": "code",
   "execution_count": 25,
   "metadata": {
    "collapsed": false
   },
   "outputs": [],
   "source": [
    "from progressbar import FormatLabel, Percentage, Bar, RotatingMarker, ProgressBar, Timer\n",
    "import time\n",
    "\n",
    "def prueba(lista, fs):\n",
    "\twidgets = [FormatLabel(''), ' ', Percentage(), ' ', Bar('#'), ' ', RotatingMarker(), Timer()]\n",
    "\tprogressbar = ProgressBar(widgets=widgets, maxval=len(lista))\n",
    "\tprogressbar.start()\n",
    "\tfor i in range(len(lista)):\n",
    "\t\twidgets[0] = FormatLabel(lista[i])\n",
    "\t\tprogressbar.update(i)\n",
    "\t\tfs[i]()\n",
    "\t\t#time.sleep(5)\n",
    "\tprogressbar.finish()\n",
    "\n",
    "def foo():\n",
    "\ttime.sleep(0.5)"
   ]
  },
  {
   "cell_type": "code",
   "execution_count": 26,
   "metadata": {
    "collapsed": false
   },
   "outputs": [
    {
     "name": "stderr",
     "output_type": "stream",
     "text": [
      "Insertando datos en Hive 100% |########################| |Elapsed Time: 0:00:03\n"
     ]
    }
   ],
   "source": [
    "f = ['Inicializando', 'Creando Workflow Oozie', 'Descargando estructura', 'Creando tabla Hive', 'Importando datos a HDFS', 'Insertando datos en Hive']\n",
    "f2 = [foo, foo, foo, foo, foo, foo]\n",
    "prueba(f, f2)"
   ]
  },
  {
   "cell_type": "code",
   "execution_count": 55,
   "metadata": {
    "collapsed": true
   },
   "outputs": [],
   "source": [
    "import xml.etree.cElementTree as ET\n",
    "\n",
    "root = ET.Element(\"root\", xmlns=\"uri:oozie:workflow:0.5\")\n",
    "\n",
    "doc = ET.SubElement(root, \"doc\")\n",
    "\n",
    "ET.SubElement(doc, \"field1\", name=\"blah\").text = \"some value1\"\n",
    "ET.SubElement(doc, \"field2\", name=\"asdfasd\").text = \"some vlaue2\"\n",
    "doc2 = ET.SubElement(doc, \"doc2\")\n",
    "ET.SubElement(doc2, \"field1a\", name=\"blah\").text = \"some value1a\"\n",
    "doc3 = ET.SubElement(doc2, \"doc2\")\n",
    "ET.SubElement(doc3, \"field1a\", name=\"blah\", other=\"dfsf\").text = \"some value1a\"\n",
    "\n",
    "tree = ET.ElementTree(root)\n",
    "tree.write(\"filename.xml\")"
   ]
  },
  {
   "cell_type": "code",
   "execution_count": 58,
   "metadata": {
    "collapsed": false
   },
   "outputs": [
    {
     "name": "stdout",
     "output_type": "stream",
     "text": [
      "0\n",
      " {uri:oozie:workflow:0.5}doc ---- {}\n",
      "  {uri:oozie:workflow:0.5}field1 {'name': 'blah'}\n",
      "  {uri:oozie:workflow:0.5}field2 {'name': 'asdfasd'}\n",
      "  {uri:oozie:workflow:0.5}doc2 {}\n",
      "   {uri:oozie:workflow:0.5}field1a {'name': 'blah'}\n",
      "   {uri:oozie:workflow:0.5}doc2 {}\n",
      "    {uri:oozie:workflow:0.5}field1a {'other': 'dfsf', 'name': 'blah'}\n"
     ]
    }
   ],
   "source": [
    "def tree_print(elem, level):\n",
    "    print level\n",
    "    for subelem in elem:\n",
    "        print ' ' * level, subelem.tag, '----',subelem.attrib\n",
    "        child_print(subelem, +1)\n",
    "\n",
    "tree = ET.ElementTree(file='filename.xml')\n",
    "root = tree.getroot()\n",
    "tree_print(root, 0)"
   ]
  },
  {
   "cell_type": "code",
   "execution_count": 49,
   "metadata": {
    "collapsed": false
   },
   "outputs": [
    {
     "name": "stdout",
     "output_type": "stream",
     "text": [
      "<root xmlns=\"uri:oozie:workflow:0.5\"><doc><field1 name=\"blah\">some value1</field1><field2 name=\"asdfasd\">some vlaue2</field2><doc2><field1a name=\"blah\">some value1a</field1a><doc2><field1a name=\"blah\" other=\"dfsf\">some value1a</field1a></doc2></doc2></doc></root>\n"
     ]
    }
   ],
   "source": [
    "with open('filename.xml') as f:\n",
    "    for l in f:\n",
    "        print l"
   ]
  },
  {
   "cell_type": "code",
   "execution_count": null,
   "metadata": {
    "collapsed": true
   },
   "outputs": [],
   "source": []
  }
 ],
 "metadata": {
  "anaconda-cloud": {},
  "kernelspec": {
   "display_name": "Python [default]",
   "language": "python",
   "name": "python2"
  },
  "language_info": {
   "codemirror_mode": {
    "name": "ipython",
    "version": 2
   },
   "file_extension": ".py",
   "mimetype": "text/x-python",
   "name": "python",
   "nbconvert_exporter": "python",
   "pygments_lexer": "ipython2",
   "version": "2.7.12"
  }
 },
 "nbformat": 4,
 "nbformat_minor": 1
}
