{
 "cells": [
  {
   "cell_type": "markdown",
   "metadata": {
    "collapsed": true
   },
   "source": [
    "## Seleccionamos la Colección y definimos el rango en el que queremos trabajar"
   ]
  },
  {
   "cell_type": "code",
   "execution_count": 1,
   "metadata": {
    "collapsed": true
   },
   "outputs": [],
   "source": [
    "from collections import defaultdict\n",
    "from pymongo import MongoClient\n",
    "import time\n",
    "import operator\n",
    "import datetime\n",
    "import re\n",
    "\n",
    "client = MongoClient()\n",
    "db = client.twitter\n",
    "te = db['prueba2']\n",
    "inicio =  datetime.datetime(2017, 4, 14)\n",
    "fin = datetime.datetime(2017,4,15)\n",
    "limit = 100"
   ]
  },
  {
   "cell_type": "markdown",
   "metadata": {},
   "source": [
    "## Creamos un diccionario por URLS y metemos primera fecha"
   ]
  },
  {
   "cell_type": "code",
   "execution_count": 4,
   "metadata": {},
   "outputs": [],
   "source": [
    "dw = defaultdict(lambda: [0, datetime.datetime.now()])\n",
    "for a in te.find({'$and': [{'created_at': {\"$lt\" : fin}} ,{'created_at': {\"$gt\" : inicio}} ]}):\n",
    "    if len(a['entities']['urls']) >0:\n",
    "        for b in a['entities']['urls']:\n",
    "            if dw[b['expanded_url']]:\n",
    "                dw[b['expanded_url']][0] += 1\n",
    "                if(a['created_at'] < dw[b['expanded_url']][1]):\n",
    "                    dw[b['expanded_url']][1]= a['created_at']\n",
    "    if 'retweeted_status' in a and len(a['retweeted_status']['entities']['urls']) >0:      \n",
    "        for b in a['retweeted_status']['entities']['urls']:\n",
    "                dw[b['expanded_url']][0] +=  1\n",
    "                if(a['created_at'] < dw[b['expanded_url']][1]):\n",
    "                    dw[b['expanded_url']][1]= a['created_at']"
   ]
  },
  {
   "cell_type": "markdown",
   "metadata": {},
   "source": [
    "## Creamos lista ordenada a partir del diccionario "
   ]
  },
  {
   "cell_type": "code",
   "execution_count": 5,
   "metadata": {},
   "outputs": [],
   "source": [
    "#print dw\n",
    "lista = map (lambda (x,y): [x,y[0],y[1]],dw.items())\n",
    "trending = sorted(lista, key=operator.itemgetter(1), reverse=True)\n",
    "#print trending\n",
    "i = 1\n",
    "#trending = []\n",
    "urls = [] \n",
    "medias = ['elpais', 'elmundo', 'eleconomista', 'elmundotoday', 'marca com', '20minutos', 'meneame', 'quora']\n",
    "for a in trending:\n",
    "    if any(word in str(a[0]) for word in medias):\n",
    "        urls.append(a)\n",
    "        i = i+1\n",
    "    if i > limit:\n",
    "        break"
   ]
  },
  {
   "cell_type": "markdown",
   "metadata": {},
   "source": [
    "## Analizamos la info de las urls extraidas"
   ]
  },
  {
   "cell_type": "code",
   "execution_count": 16,
   "metadata": {},
   "outputs": [
    {
     "name": "stdout",
     "output_type": "stream",
     "text": [
      "http://elmundo.sv/gracias-el-paraiso-escondido-de-honduras/\n",
      "http://internacional.elpais.com/internacional/2017/04/14/america/1492120887_809569.html?id_externo_rsoc=TW_CC\n",
      "http://internacional.elpais.com/internacional/2017/04/14/america/1492130889_914715.html?id_externo_rsoc=TW_CC\n",
      "http://internacional.elpais.com/internacional/2017/04/14/america/1492120887_809569.html\n",
      "http://www.elmundo.es/cronica/2017/04/14/58e7bbf746163f324e8b45fd.html\n",
      "http://www.elmundo.es/andalucia/2017/04/14/58f04e36e2704eeb718b466a.html\n",
      "http://www.elmundo.es/deportes/futbol/2017/04/14/58f0f266e2704e016f8b466c.html\n",
      "http://cultura.elpais.com/cultura/2017/04/13/actualidad/1492107162_872898.html?id_externo_rsoc=TW_CC\n",
      "http://www.elmundo.es/economia/macroeconomia/2017/04/14/58efb52c468aebde2f8b45e4.html\n",
      "http://internacional.elpais.com/internacional/2017/04/13/estados_unidos/1492102620_991509.html\n",
      "http://cultura.elpais.com/cultura/2017/04/13/actualidad/1492099247_028284.html?id_externo_rsoc=TW_CC\n",
      "http://politica.elpais.com/politica/2017/04/13/actualidad/1492092111_475157.html?id_externo_rsoc=TW_CC\n",
      "http://verne.elpais.com/verne/2017/04/13/articulo/1492088562_028524.html\n",
      "http://retina.elpais.com/retina/2017/04/13/talento/1492078887_764987.html?id_externo_rsoc=TW_CC\n",
      "http://www.elmundo.es/comunidad-valenciana/alicante/2017/04/14/58efc44fca4741445d8b45e1.html\n",
      "http://cultura.elpais.com/cultura/2017/04/13/actualidad/1492107162_872898.html?id_externo_rsoc=TW_CM\n",
      "http://politica.elpais.com/politica/2017/04/12/actualidad/1492012423_170342.html?id_externo_rsoc=TW_CC\n",
      "http://www.20minutos.es/noticia/3011768/0/detenidos-desordenes-madruga-semana-santa-sevilla/\n",
      "http://ecodiario.eleconomista.es/espana/noticias/8292029/04/17/Ciudadanos-reclama-coordinar-esfuerzos-para-impulsar-las-ciudades-inteligentes.html\n",
      "http://tecnologia.elpais.com/tecnologia/2017/03/30/actualidad/1490875903_152817.html\n",
      "http://cultura.elpais.com/cultura/2017/04/12/babelia/1491999110_506304.html?id_externo_rsoc=TW_CC\n",
      "http://www.elmundo.es/internacional/2017/04/13/58efcb3646163fc3458b4608.html\n",
      "http://politica.elpais.com/politica/2017/04/14/actualidad/1492147357_114877.html\n",
      "http://internacional.elpais.com/internacional/2017/04/13/actualidad/1492104919_480226.html?id_externo_rsoc=TW_CC\n",
      "http://linkis.com/politica.elpais.com/FSm2d\n",
      "http://politica.elpais.com/politica/2017/04/12/actualidad/1492012423_170342.html\n",
      "http://ccaa.elpais.com/ccaa/2017/04/13/catalunya/1492106159_893925.html?id_externo_rsoc=TW_CC\n",
      "http://politica.elpais.com/politica/2017/04/13/actualidad/1492085400_707384.html?id_externo_rsoc=TW_CC\n",
      "http://internacional.elpais.com/internacional/2017/04/13/mundo_global/1492097817_740242.html?id_externo_rsoc=TW_CC\n",
      "http://elpais.com/elpais/2017/04/13/opinion/1492085672_414125.html?id_externo_rsoc=TW_CC\n",
      "http://elpais.com/retina/2017/04/13/talento/1492078887_764987.html\n",
      "http://www.elmundo.es/ciencia-y-salud/ciencia/2017/04/13/58efc26f468aeb0f2c8b4615.html\n",
      "http://retina.elpais.com/retina/2017/04/13/talento/1492078887_764987.html\n",
      "http://elpais.com/elpais/2017/04/03/mamas_papas/1491228845_154595.html?id_externo_rsoc=TW_CC\n",
      "http://elpais.com/elpais/2017/04/12/ciencia/1492018495_305528.html\n",
      "http://cultura.elpais.com/cultura/2017/04/13/actualidad/1492107162_872898.html\n",
      "http://www.elmundo.es/internacional/2017/04/14/58f0a80622601d141d8b459c.html\n",
      "http://www.20minutos.es/noticia/3011770/0/muertos-mimebros-estado-islamico-impacto-bomba-gbu43-afganistan/\n",
      "http://politica.elpais.com/politica/2017/04/11/actualidad/1491921013_698377.html\n",
      "http://internacional.elpais.com/internacional/2017/04/13/estados_unidos/1492102620_991509.html?id_externo_rsoc=TW_CC\n",
      "http://www.elpais.com.uy/mundo/hallaron-muerta-rio-hudson-jueza.html\n",
      "http://www.elmundo.es/espana/2017/04/14/58efc766468aeb6c2a8b45f7.html\n",
      "http://www.20minutos.es/noticia/3011955/0/botellon-jueves-santo-zamora/\n",
      "http://internacional.elpais.com/internacional/2017/04/13/actualidad/1492079934_447389.html?id_externo_rsoc=TW_CC\n",
      "http://www.meneame.net/story/otra-bomba-pp-murcia-levanta-secreto-pufo-600-m-acs\n",
      "http://internacional.elpais.com/internacional/2017/04/14/actualidad/1492159061_306616.html?id_externo_rsoc=TW_CC\n",
      "http://www.elmundo.es/opinion/2017/04/14/58efa06122601d15438b466f.html\n",
      "http://internacional.elpais.com/internacional/2017/04/13/mexico/1492115920_111835.html?id_externo_rsoc=TW_CC\n",
      "http://www.elmundo.es/andalucia/sevilla/2017/04/14/58f0fcf8268e3e0d458b45a8.html\n",
      "http://elpais.com/elpais/2017/04/13/hechos/1492084221_516738.html?id_externo_rsoc=TW_CC\n",
      "http://elpais.com/elpais/2017/04/11/ciencia/1491929803_554985.html\n",
      "http://elpais.com/elpais/2017/04/12/ciencia/1492018495_305528.html?id_externo_rsoc=TW_CC\n",
      "http://politica.elpais.com/politica/2017/04/14/actualidad/1492147357_114877.html?id_externo_rsoc=TW_CC\n",
      "http://ln.is/elpais.com/YYX61\n",
      "http://elpais.com/elpais/2017/04/11/ciencia/1491929803_554985.html?id_externo_rsoc=TW_CC\n",
      "http://elpais.com\n",
      "http://www.elmundo.es/opinion/2017/04/14/58ef9ed946163fab458b45e6.html\n",
      "http://www.meneame.net/story/alimentacion-ferrero-bimbo-montan-lobby-defender-aceite-palma\n",
      "http://politica.elpais.com/politica/2014/05/28/videos/1401260764_520105.html\n",
      "http://elpais.com/elpais/2017/04/13/opinion/1492105073_674211.html?id_externo_rsoc=TW_CC\n"
     ]
    },
    {
     "ename": "HTTPError",
     "evalue": "HTTP Error 502: Bad Gateway",
     "output_type": "error",
     "traceback": [
      "\u001b[0;31m---------------------------------------------------------------------------\u001b[0m",
      "\u001b[0;31mHTTPError\u001b[0m                                 Traceback (most recent call last)",
      "\u001b[0;32m<ipython-input-16-83f7dd5d3829>\u001b[0m in \u001b[0;36m<module>\u001b[0;34m()\u001b[0m\n\u001b[1;32m     45\u001b[0m \u001b[0;32mfor\u001b[0m \u001b[0murl\u001b[0m \u001b[0;32min\u001b[0m \u001b[0murls\u001b[0m\u001b[0;34m:\u001b[0m\u001b[0;34m\u001b[0m\u001b[0m\n\u001b[1;32m     46\u001b[0m     \u001b[0;32mprint\u001b[0m \u001b[0murl\u001b[0m\u001b[0;34m[\u001b[0m\u001b[0;36m0\u001b[0m\u001b[0;34m]\u001b[0m\u001b[0;34m\u001b[0m\u001b[0m\n\u001b[0;32m---> 47\u001b[0;31m     \u001b[0md\u001b[0m \u001b[0;34m=\u001b[0m \u001b[0mget_data_pais\u001b[0m\u001b[0;34m(\u001b[0m\u001b[0murl\u001b[0m\u001b[0;34m[\u001b[0m\u001b[0;36m0\u001b[0m\u001b[0;34m]\u001b[0m\u001b[0;34m)\u001b[0m\u001b[0;34m\u001b[0m\u001b[0m\n\u001b[0m\u001b[1;32m     48\u001b[0m     \u001b[0mtime\u001b[0m\u001b[0;34m.\u001b[0m\u001b[0msleep\u001b[0m\u001b[0;34m(\u001b[0m\u001b[0;36m1\u001b[0m\u001b[0;34m)\u001b[0m\u001b[0;34m\u001b[0m\u001b[0m\n\u001b[1;32m     49\u001b[0m     \u001b[0md\u001b[0m\u001b[0;34m[\u001b[0m\u001b[0;34m'rank'\u001b[0m\u001b[0;34m]\u001b[0m \u001b[0;34m=\u001b[0m \u001b[0murl\u001b[0m\u001b[0;34m[\u001b[0m\u001b[0;36m1\u001b[0m\u001b[0;34m]\u001b[0m\u001b[0;34m\u001b[0m\u001b[0m\n",
      "\u001b[0;32m<ipython-input-16-83f7dd5d3829>\u001b[0m in \u001b[0;36mget_data_pais\u001b[0;34m(name)\u001b[0m\n\u001b[1;32m      5\u001b[0m     \u001b[0mopener\u001b[0m \u001b[0;34m=\u001b[0m \u001b[0murllib2\u001b[0m\u001b[0;34m.\u001b[0m\u001b[0mbuild_opener\u001b[0m\u001b[0;34m(\u001b[0m\u001b[0;34m)\u001b[0m\u001b[0;34m\u001b[0m\u001b[0m\n\u001b[1;32m      6\u001b[0m     \u001b[0mopener\u001b[0m\u001b[0;34m.\u001b[0m\u001b[0maddheaders\u001b[0m \u001b[0;34m=\u001b[0m \u001b[0;34m[\u001b[0m\u001b[0;34m(\u001b[0m\u001b[0;34m'User-Agent'\u001b[0m\u001b[0;34m,\u001b[0m \u001b[0;34m'Mozilla/5.0'\u001b[0m\u001b[0;34m)\u001b[0m\u001b[0;34m]\u001b[0m\u001b[0;34m\u001b[0m\u001b[0m\n\u001b[0;32m----> 7\u001b[0;31m     \u001b[0mwebpage\u001b[0m \u001b[0;34m=\u001b[0m \u001b[0mopener\u001b[0m\u001b[0;34m.\u001b[0m\u001b[0mopen\u001b[0m\u001b[0;34m(\u001b[0m\u001b[0mname\u001b[0m\u001b[0;34m)\u001b[0m\u001b[0;34m.\u001b[0m\u001b[0mread\u001b[0m\u001b[0;34m(\u001b[0m\u001b[0;34m)\u001b[0m\u001b[0;34m\u001b[0m\u001b[0m\n\u001b[0m\u001b[1;32m      8\u001b[0m     \u001b[0msoup\u001b[0m \u001b[0;34m=\u001b[0m \u001b[0mBeautifulSoup\u001b[0m\u001b[0;34m(\u001b[0m\u001b[0mwebpage\u001b[0m\u001b[0;34m,\u001b[0m \u001b[0;34m'html.parser'\u001b[0m\u001b[0;34m)\u001b[0m\u001b[0;34m\u001b[0m\u001b[0m\n\u001b[1;32m      9\u001b[0m     \u001b[0mtitle\u001b[0m \u001b[0;34m=\u001b[0m \u001b[0msoup\u001b[0m\u001b[0;34m.\u001b[0m\u001b[0mfind\u001b[0m\u001b[0;34m(\u001b[0m\u001b[0;34m\"meta\"\u001b[0m\u001b[0;34m,\u001b[0m  \u001b[0mproperty\u001b[0m\u001b[0;34m=\u001b[0m\u001b[0;34m\"og:title\"\u001b[0m\u001b[0;34m)\u001b[0m\u001b[0;34m\u001b[0m\u001b[0m\n",
      "\u001b[0;32m/usr/lib64/python2.7/urllib2.pyc\u001b[0m in \u001b[0;36mopen\u001b[0;34m(self, fullurl, data, timeout)\u001b[0m\n\u001b[1;32m    433\u001b[0m         \u001b[0;32mfor\u001b[0m \u001b[0mprocessor\u001b[0m \u001b[0;32min\u001b[0m \u001b[0mself\u001b[0m\u001b[0;34m.\u001b[0m\u001b[0mprocess_response\u001b[0m\u001b[0;34m.\u001b[0m\u001b[0mget\u001b[0m\u001b[0;34m(\u001b[0m\u001b[0mprotocol\u001b[0m\u001b[0;34m,\u001b[0m \u001b[0;34m[\u001b[0m\u001b[0;34m]\u001b[0m\u001b[0;34m)\u001b[0m\u001b[0;34m:\u001b[0m\u001b[0;34m\u001b[0m\u001b[0m\n\u001b[1;32m    434\u001b[0m             \u001b[0mmeth\u001b[0m \u001b[0;34m=\u001b[0m \u001b[0mgetattr\u001b[0m\u001b[0;34m(\u001b[0m\u001b[0mprocessor\u001b[0m\u001b[0;34m,\u001b[0m \u001b[0mmeth_name\u001b[0m\u001b[0;34m)\u001b[0m\u001b[0;34m\u001b[0m\u001b[0m\n\u001b[0;32m--> 435\u001b[0;31m             \u001b[0mresponse\u001b[0m \u001b[0;34m=\u001b[0m \u001b[0mmeth\u001b[0m\u001b[0;34m(\u001b[0m\u001b[0mreq\u001b[0m\u001b[0;34m,\u001b[0m \u001b[0mresponse\u001b[0m\u001b[0;34m)\u001b[0m\u001b[0;34m\u001b[0m\u001b[0m\n\u001b[0m\u001b[1;32m    436\u001b[0m \u001b[0;34m\u001b[0m\u001b[0m\n\u001b[1;32m    437\u001b[0m         \u001b[0;32mreturn\u001b[0m \u001b[0mresponse\u001b[0m\u001b[0;34m\u001b[0m\u001b[0m\n",
      "\u001b[0;32m/usr/lib64/python2.7/urllib2.pyc\u001b[0m in \u001b[0;36mhttp_response\u001b[0;34m(self, request, response)\u001b[0m\n\u001b[1;32m    546\u001b[0m         \u001b[0;32mif\u001b[0m \u001b[0;32mnot\u001b[0m \u001b[0;34m(\u001b[0m\u001b[0;36m200\u001b[0m \u001b[0;34m<=\u001b[0m \u001b[0mcode\u001b[0m \u001b[0;34m<\u001b[0m \u001b[0;36m300\u001b[0m\u001b[0;34m)\u001b[0m\u001b[0;34m:\u001b[0m\u001b[0;34m\u001b[0m\u001b[0m\n\u001b[1;32m    547\u001b[0m             response = self.parent.error(\n\u001b[0;32m--> 548\u001b[0;31m                 'http', request, response, code, msg, hdrs)\n\u001b[0m\u001b[1;32m    549\u001b[0m \u001b[0;34m\u001b[0m\u001b[0m\n\u001b[1;32m    550\u001b[0m         \u001b[0;32mreturn\u001b[0m \u001b[0mresponse\u001b[0m\u001b[0;34m\u001b[0m\u001b[0m\n",
      "\u001b[0;32m/usr/lib64/python2.7/urllib2.pyc\u001b[0m in \u001b[0;36merror\u001b[0;34m(self, proto, *args)\u001b[0m\n\u001b[1;32m    471\u001b[0m         \u001b[0;32mif\u001b[0m \u001b[0mhttp_err\u001b[0m\u001b[0;34m:\u001b[0m\u001b[0;34m\u001b[0m\u001b[0m\n\u001b[1;32m    472\u001b[0m             \u001b[0margs\u001b[0m \u001b[0;34m=\u001b[0m \u001b[0;34m(\u001b[0m\u001b[0mdict\u001b[0m\u001b[0;34m,\u001b[0m \u001b[0;34m'default'\u001b[0m\u001b[0;34m,\u001b[0m \u001b[0;34m'http_error_default'\u001b[0m\u001b[0;34m)\u001b[0m \u001b[0;34m+\u001b[0m \u001b[0morig_args\u001b[0m\u001b[0;34m\u001b[0m\u001b[0m\n\u001b[0;32m--> 473\u001b[0;31m             \u001b[0;32mreturn\u001b[0m \u001b[0mself\u001b[0m\u001b[0;34m.\u001b[0m\u001b[0m_call_chain\u001b[0m\u001b[0;34m(\u001b[0m\u001b[0;34m*\u001b[0m\u001b[0margs\u001b[0m\u001b[0;34m)\u001b[0m\u001b[0;34m\u001b[0m\u001b[0m\n\u001b[0m\u001b[1;32m    474\u001b[0m \u001b[0;34m\u001b[0m\u001b[0m\n\u001b[1;32m    475\u001b[0m \u001b[0;31m# XXX probably also want an abstract factory that knows when it makes\u001b[0m\u001b[0;34m\u001b[0m\u001b[0;34m\u001b[0m\u001b[0m\n",
      "\u001b[0;32m/usr/lib64/python2.7/urllib2.pyc\u001b[0m in \u001b[0;36m_call_chain\u001b[0;34m(self, chain, kind, meth_name, *args)\u001b[0m\n\u001b[1;32m    405\u001b[0m             \u001b[0mfunc\u001b[0m \u001b[0;34m=\u001b[0m \u001b[0mgetattr\u001b[0m\u001b[0;34m(\u001b[0m\u001b[0mhandler\u001b[0m\u001b[0;34m,\u001b[0m \u001b[0mmeth_name\u001b[0m\u001b[0;34m)\u001b[0m\u001b[0;34m\u001b[0m\u001b[0m\n\u001b[1;32m    406\u001b[0m \u001b[0;34m\u001b[0m\u001b[0m\n\u001b[0;32m--> 407\u001b[0;31m             \u001b[0mresult\u001b[0m \u001b[0;34m=\u001b[0m \u001b[0mfunc\u001b[0m\u001b[0;34m(\u001b[0m\u001b[0;34m*\u001b[0m\u001b[0margs\u001b[0m\u001b[0;34m)\u001b[0m\u001b[0;34m\u001b[0m\u001b[0m\n\u001b[0m\u001b[1;32m    408\u001b[0m             \u001b[0;32mif\u001b[0m \u001b[0mresult\u001b[0m \u001b[0;32mis\u001b[0m \u001b[0;32mnot\u001b[0m \u001b[0mNone\u001b[0m\u001b[0;34m:\u001b[0m\u001b[0;34m\u001b[0m\u001b[0m\n\u001b[1;32m    409\u001b[0m                 \u001b[0;32mreturn\u001b[0m \u001b[0mresult\u001b[0m\u001b[0;34m\u001b[0m\u001b[0m\n",
      "\u001b[0;32m/usr/lib64/python2.7/urllib2.pyc\u001b[0m in \u001b[0;36mhttp_error_default\u001b[0;34m(self, req, fp, code, msg, hdrs)\u001b[0m\n\u001b[1;32m    554\u001b[0m \u001b[0;32mclass\u001b[0m \u001b[0mHTTPDefaultErrorHandler\u001b[0m\u001b[0;34m(\u001b[0m\u001b[0mBaseHandler\u001b[0m\u001b[0;34m)\u001b[0m\u001b[0;34m:\u001b[0m\u001b[0;34m\u001b[0m\u001b[0m\n\u001b[1;32m    555\u001b[0m     \u001b[0;32mdef\u001b[0m \u001b[0mhttp_error_default\u001b[0m\u001b[0;34m(\u001b[0m\u001b[0mself\u001b[0m\u001b[0;34m,\u001b[0m \u001b[0mreq\u001b[0m\u001b[0;34m,\u001b[0m \u001b[0mfp\u001b[0m\u001b[0;34m,\u001b[0m \u001b[0mcode\u001b[0m\u001b[0;34m,\u001b[0m \u001b[0mmsg\u001b[0m\u001b[0;34m,\u001b[0m \u001b[0mhdrs\u001b[0m\u001b[0;34m)\u001b[0m\u001b[0;34m:\u001b[0m\u001b[0;34m\u001b[0m\u001b[0m\n\u001b[0;32m--> 556\u001b[0;31m         \u001b[0;32mraise\u001b[0m \u001b[0mHTTPError\u001b[0m\u001b[0;34m(\u001b[0m\u001b[0mreq\u001b[0m\u001b[0;34m.\u001b[0m\u001b[0mget_full_url\u001b[0m\u001b[0;34m(\u001b[0m\u001b[0;34m)\u001b[0m\u001b[0;34m,\u001b[0m \u001b[0mcode\u001b[0m\u001b[0;34m,\u001b[0m \u001b[0mmsg\u001b[0m\u001b[0;34m,\u001b[0m \u001b[0mhdrs\u001b[0m\u001b[0;34m,\u001b[0m \u001b[0mfp\u001b[0m\u001b[0;34m)\u001b[0m\u001b[0;34m\u001b[0m\u001b[0m\n\u001b[0m\u001b[1;32m    557\u001b[0m \u001b[0;34m\u001b[0m\u001b[0m\n\u001b[1;32m    558\u001b[0m \u001b[0;32mclass\u001b[0m \u001b[0mHTTPRedirectHandler\u001b[0m\u001b[0;34m(\u001b[0m\u001b[0mBaseHandler\u001b[0m\u001b[0;34m)\u001b[0m\u001b[0;34m:\u001b[0m\u001b[0;34m\u001b[0m\u001b[0m\n",
      "\u001b[0;31mHTTPError\u001b[0m: HTTP Error 502: Bad Gateway"
     ]
    }
   ],
   "source": [
    "import urllib2\n",
    "from bs4 import BeautifulSoup\n",
    "\n",
    "def get_data_pais(name):\n",
    "    opener = urllib2.build_opener()\n",
    "    opener.addheaders = [('User-Agent', 'Mozilla/5.0')]\n",
    "    webpage = opener.open(name).read()\n",
    "    soup = BeautifulSoup(webpage, 'html.parser')\n",
    "    title = soup.find(\"meta\",  property=\"og:title\")\n",
    "    title2 = soup.find(\"meta\",  {\"name\":\"title\"})\n",
    "    title3 = soup.find(\"title\")\n",
    "    url = soup.find(\"meta\",  property=\"og:url\")\n",
    "    desc = soup.find(\"meta\",  property=\"og:description\")\n",
    "    desc2 = soup.find(\"meta\",  {\"name\":\"description\"})\n",
    "    img = soup.find(\"meta\",  property=\"og:image\")\n",
    "    d = {}\n",
    "    if title3 :\n",
    "            title3= str(title3).replace(\"<title>\", \"\").replace(\"</title>\", \"\")\n",
    "    d['title'] = title[\"content\"] if title else (title2[\"content\"] if title2 else title3)\n",
    "    d['url'] = url[\"content\"] if url else name\n",
    "    d[\"desc\"] = desc[\"content\"] if desc else (desc2[\"content\"] if desc2 else None)\n",
    "    d[\"img\"] = img[\"content\"] if img else None\n",
    "    \n",
    "    if not d[\"img\"]:\n",
    "        imgs = soup.findAll(\"div\", {\"class\":\"article-image\"})\n",
    "        for img in imgs:\n",
    "            soup2 = BeautifulSoup(str(img), 'html.parser')\n",
    "            i = soup2.findAll(\"img\")\n",
    "            if i:\n",
    "                i = str(i)[str(i).index('src=\"')+5:]\n",
    "                i = i[:i.index('\"')]\n",
    "                d[\"img\"] = i\n",
    "    \n",
    "    ####buscamos Tags\n",
    "    tags = soup.findAll(\"meta\",  property=\"article:tag\")\n",
    "    d['tags'] = ','.join([tag['content'] for tag in tags])\n",
    "    \n",
    "    return d\n",
    "  \n",
    "lurls = []\n",
    "#urls = [[r'http://m.20minutos.es/deportes/noticia/der-spiegel-cristiano-ronaldo-pago-euros-evitar-juicio-presunta-violacion-3012042/0/',4]]\n",
    "\n",
    "\n",
    "\n",
    "for url in urls:\n",
    "    print url[0]\n",
    "    d = get_data_pais(url[0])\n",
    "    time.sleep(1)\n",
    "    d['rank'] = url[1]\n",
    "    lurls.append(d)\n",
    "    \n",
    "\n"
   ]
  },
  {
   "cell_type": "code",
   "execution_count": 19,
   "metadata": {},
   "outputs": [
    {
     "name": "stdout",
     "output_type": "stream",
     "text": [
      "Gracias, el paraíso escondido de Honduras\n",
      "\n",
      "La foto con Aznar del hijo del 'carnicero' de Siria\n",
      "cronica,José María Aznar,Siria,Bashar al-Asad\n",
      "Ocho detenidos y 17 heridos, uno de ellos grave, por las estampidas en la 'Madrugá' de Sevilla\n",
      "andalucia,policía y justicia - policía,Madrugá de la Semana Santa,testigo,punto,asistente,Semana Santa Málaga,Semana Santa Sevilla\n",
      "'Der Spiegel' afirma que Cristiano Ronaldo acordó pagar 258.000€ en 2010 para evitar una denuncia por presunta violación\n",
      "deportes/futbol,fútbol,Cristiano Ronaldo\n"
     ]
    }
   ],
   "source": [
    "i=0\n",
    "for d in lurls:\n",
    "    #print d\n",
    "    if 'elpais' not in d['url']:\n",
    "        print d['title']\n",
    "        print d['tags']\n",
    "        i+=1\n",
    "    if i >3:\n",
    "        break"
   ]
  },
  {
   "cell_type": "markdown",
   "metadata": {},
   "source": [
    "## Volcamos a json"
   ]
  },
  {
   "cell_type": "code",
   "execution_count": 20,
   "metadata": {},
   "outputs": [],
   "source": [
    "import json\n",
    "with open('tweevy', 'w') as f:\n",
    "    f.write(json.dumps(lurls))"
   ]
  },
  {
   "cell_type": "code",
   "execution_count": null,
   "metadata": {
    "collapsed": true
   },
   "outputs": [],
   "source": []
  }
 ],
 "metadata": {
  "kernelspec": {
   "display_name": "Python 2",
   "language": "python",
   "name": "python2"
  },
  "language_info": {
   "codemirror_mode": {
    "name": "ipython",
    "version": 2
   },
   "file_extension": ".py",
   "mimetype": "text/x-python",
   "name": "python",
   "nbconvert_exporter": "python",
   "pygments_lexer": "ipython2",
   "version": "2.7.13"
  }
 },
 "nbformat": 4,
 "nbformat_minor": 2
}
