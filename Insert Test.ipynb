{
 "cells": [
  {
   "cell_type": "markdown",
   "metadata": {},
   "source": [
    "## Clase para capturar "
   ]
  },
  {
   "cell_type": "code",
   "execution_count": 3,
   "metadata": {
    "collapsed": false,
    "deletable": true,
    "editable": true
   },
   "outputs": [],
   "source": [
    "#!/usr/bin/env python\n",
    "# -*- coding: utf-8 -*-\n",
    "from tweepy.streaming import StreamListener\n",
    "from tweepy import OAuthHandler\n",
    "from tweepy import Stream\n",
    "import json\n",
    "import pandas as pd\n",
    "import matplotlib.pyplot as plt\n",
    "import pymongo\n",
    "from pymongo import MongoClient\n",
    "import datetime\n",
    "\n",
    "#Variables that contains the user credentials to access Twitter API \n",
    "consumer_key = '78md4yeywSjNh4If12RxkPWYE'\n",
    "consumer_secret = 'YVMdav0bWsuquGhTqnWqzFVLFL7O7OHMZwOPSBAy9syfpagkWm'\n",
    "access_token = '2351463607-htbWPPPyLf6y1Zja7uOIzIvEWgUjmzQt2388892'\n",
    "access_token_secret = 'mf6bCyKDPvTEyUjFFMIZk2yd49PXXuRjW7G4bIt2r20ay'\n",
    "client = MongoClient('localhost', 27017)\n",
    "\n",
    "db = client['twitter']\n",
    "collection = db['prueba2']\n",
    "\n",
    "#This is a basic listener that just prints received tweets to stdout.\n",
    "class StdOutListener(StreamListener):\n",
    "    def on_data(self, data):\t\n",
    "        tweet = json.loads(data)\n",
    "        if 'created_at' in tweet:\n",
    "            tweet['created_at'] = datetime.datetime.strptime(tweet['created_at'], '%a %b %d %H:%M:%S +0000 %Y')\n",
    "            if 'manuelgm.mysql.pythonanywhere-services.comcreated_at' in tweet['user']:\n",
    "                tweet['user']['created_at'] = datetime.datetime.strptime(tweet['user']['created_at'], '%a %b %d %H:%M:%S +0000 %Y')\n",
    "            collection.insert(tweet)\n",
    "        #print tweet\n",
    "        return True\n",
    "    def on_error(self, status):\n",
    "        print status\n",
    "\n"
   ]
  },
  {
   "cell_type": "markdown",
   "metadata": {},
   "source": [
    "## Filtramos por los medios que queremos capturar y por lenguaje"
   ]
  },
  {
   "cell_type": "code",
   "execution_count": null,
   "metadata": {
    "collapsed": false,
    "deletable": true,
    "editable": true
   },
   "outputs": [
    {
     "name": "stderr",
     "output_type": "stream",
     "text": [
      "/usr/lib/python2.7/site-packages/ipykernel/__main__.py:31: DeprecationWarning: insert is deprecated. Use insert_one or insert_many instead.\n"
     ]
    }
   ],
   "source": [
    "#This handles Twitter authetification and the connection to Twitter Streaming API\n",
    "l = StdOutListener()\n",
    "auth = OAuthHandler(consumer_key, consumer_secret)\n",
    "auth.set_access_token(access_token, access_token_secret)\n",
    "stream = Stream(auth, l)\n",
    "#SPAIN_GEOBOX = [-9.38,36.05,3.35,43.75]\n",
    "stream.filter(languages=[\"es\"], track=['elpais', 'elmundo', 'eleconomista', 'elmundotoday', 'marca com', '20minutos', 'meneame', 'quora'])"
   ]
  },
  {
   "cell_type": "code",
   "execution_count": null,
   "metadata": {
    "collapsed": true,
    "deletable": true,
    "editable": true
   },
   "outputs": [],
   "source": []
  }
 ],
 "metadata": {
  "anaconda-cloud": {},
  "kernelspec": {
   "display_name": "Python 2",
   "language": "python",
   "name": "python2"
  },
  "language_info": {
   "codemirror_mode": {
    "name": "ipython",
    "version": 2
   },
   "file_extension": ".py",
   "mimetype": "text/x-python",
   "name": "python",
   "nbconvert_exporter": "python",
   "pygments_lexer": "ipython2",
   "version": "2.7.13"
  }
 },
 "nbformat": 4,
 "nbformat_minor": 1
}
