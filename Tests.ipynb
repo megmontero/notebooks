{
 "cells": [
  {
   "cell_type": "code",
   "execution_count": 1,
   "metadata": {
    "collapsed": false,
    "deletable": true,
    "editable": true
   },
   "outputs": [
    {
     "name": "stdout",
     "output_type": "stream",
     "text": [
      "2017-04-25 00:00:00\n",
      "2017-04-26 00:00:00\n"
     ]
    }
   ],
   "source": [
    "from pymongo import MongoClient\n",
    "import time\n",
    "import operator\n",
    "import datetime\n",
    "import re\n",
    "\n",
    "client = MongoClient()\n",
    "db = client.twitter\n",
    "te = db['prueba2']\n",
    "dia_inicio = datetime.datetime.now()\n",
    "dia_inicio = datetime.datetime(dia_inicio.year, dia_inicio.month, 25)\n",
    "#dia_inicio = te.find_one(sort=[(\"created_at\", 1)])[\"created_at\"]\n",
    "print dia_inicio\n",
    "\n",
    "#fin = te.find_one(sort=[(\"created_at\", -1)])[\"created_at\"]\n",
    "fin = datetime.datetime(dia_inicio.year, dia_inicio.month, 26)\n",
    "print fin"
   ]
  },
  {
   "cell_type": "code",
   "execution_count": 2,
   "metadata": {
    "collapsed": false,
    "deletable": true,
    "editable": true
   },
   "outputs": [],
   "source": [
    "def insert_web_dict(d,value):\n",
    "    if not value:\n",
    "        return\n",
    "    if 'https://twitter.com/' in value:\n",
    "        return\n",
    "    if value in d:\n",
    "        d[value] = d[value] + 1\n",
    "    else:\n",
    "        d[value] = 1\n",
    "\n",
    "\n",
    "        \n",
    "    "
   ]
  },
  {
   "cell_type": "code",
   "execution_count": 3,
   "metadata": {
    "collapsed": true,
    "deletable": true,
    "editable": true
   },
   "outputs": [],
   "source": [
    "def get_trending(init, end, limit):\n",
    "    dw = {}\n",
    "    count = 0\n",
    "    for a in te.find({'$and': [{'created_at': {\"$gte\" : init}} ,{'created_at': {\"$lt\" : end}} ]}):\n",
    "        count = count +1\n",
    "        if len(a['entities']['urls']) >0:\n",
    "            for b in a['entities']['urls']:\n",
    "                insert_web_dict(dw,b['expanded_url'])\n",
    "        if 'retweeted_status' in a and len(a['retweeted_status']['entities']['urls']) >0:      \n",
    "            for b in a['retweeted_status']['entities']['urls']:\n",
    "                insert_web_dict(dw,b['expanded_url'])\n",
    "    trending = sorted(dw.items(), key=operator.itemgetter(1), reverse=True)\n",
    "    return trending[:limit], count"
   ]
  },
  {
   "cell_type": "code",
   "execution_count": 4,
   "metadata": {
    "collapsed": false,
    "deletable": true,
    "editable": true
   },
   "outputs": [],
   "source": [
    "intervalo = 60\n",
    "a =  datetime.datetime(dia_inicio.year, dia_inicio.month, dia_inicio.day, dia_inicio.hour, dia_inicio.minute)\n",
    "while fin > a:\n",
    "    b = a + datetime.timedelta(minutes=intervalo)\n",
    "    (tr, count)= get_trending(a, b, 5)\n",
    "    if count < 3000:\n",
    "        tr = []\n",
    "    first = True\n",
    "    for w in tr:\n",
    "        if w:\n",
    "            if first:\n",
    "                print str(a) + ':'\n",
    "                first = False\n",
    "            print '\\t' + str(w)\n",
    "    a = b"
   ]
  },
  {
   "cell_type": "code",
   "execution_count": 49,
   "metadata": {
    "collapsed": false,
    "deletable": true,
    "editable": true
   },
   "outputs": [],
   "source": [
    "###Creamos rangos y cogemos lo más visitado\n",
    "d = {}\n",
    "for a in te.find({'$and': [{'text':{\"$regex\" : '#'}} ,{'created_at': {\"$gt\" : dia_inicio}} ]},  { 'text': 1}):\n",
    "\ts = a['text']\n",
    "\tfor ht in  [b.strip('#') for b in s.split() if b.startswith(\"#\")]:\n",
    "\t\tif ht not in d:\n",
    "\t\t\td[ht] = 1\n",
    "\t\telse:\n",
    "\t\t\td[ht] = d[ht] + 1\n",
    "trending = sorted(d.items(), key=operator.itemgetter(1), reverse=True)\n",
    "for a in trending:\n",
    "    print a"
   ]
  },
  {
   "cell_type": "code",
   "execution_count": 83,
   "metadata": {
    "collapsed": false,
    "deletable": true,
    "editable": true
   },
   "outputs": [],
   "source": [
    "from collections import defaultdict\n",
    "limit = 100\n",
    "dw2 = defaultdict(lambda: 0)\n",
    "for a in te.find():\n",
    "    lh = []\n",
    "    for b in a['entities']['hashtags']:\n",
    "        lh.append(b['text'])\n",
    "    if 'retweeted_status' in a:   \n",
    "        for b in a['retweeted_status']['entities']['hashtags']:\n",
    "            lh.append(b['text'])\n",
    "    \n",
    "    if len(a['entities']['urls']) >0:\n",
    "        for b in a['entities']['urls']:\n",
    "            if dw2[b['expanded_url']]:\n",
    "                dw2[b['expanded_url']] += 1\n",
    "    if 'retweeted_status' in a and len(a['retweeted_status']['entities']['urls']) >0:      \n",
    "        for b in a['retweeted_status']['entities']['urls']:\n",
    "                dw2[b['expanded_url']] +=  1\n",
    "            \n",
    "    \n",
    "#    if len(a['entities']['urls']) >0:\n",
    "#        for b in a['entities']['urls']:\n",
    "#            if b['expanded_url'] in dw2:\n",
    "#                dw2[b['expanded_url']] = dw2[b['expanded_url']] + lh\n",
    "#            else:\n",
    "#                dw2[b['expanded_url']] = lh\n",
    "#    if 'retweeted_status' in a and len(a['retweeted_status']['entities']['urls']) >0:      \n",
    "#        for b in a['retweeted_status']['entities']['urls']:\n",
    "#            if b['expanded_url'] in dw2:\n",
    "#                dw2[b['expanded_url']] = dw2[b['expanded_url']] + lh\n",
    "#            else:\n",
    "#                dw2[b['expanded_url']] = lh\n",
    "            \n",
    "trending = sorted(dw2.items(), key=operator.itemgetter(1), reverse=True)\n",
    "i = 1\n",
    "urls = [] \n",
    "medias = ['elpais', 'elmundo', 'eleconomista', 'elmundotoday', 'marca com', '20minutos', 'meneame', 'quora']\n",
    "for a in trending:\n",
    "    if any(word in a[0] for word in medias):\n",
    "        urls.append(a)\n",
    "        i = i+1\n",
    "    if i > limit:\n",
    "        break"
   ]
  },
  {
   "cell_type": "code",
   "execution_count": 84,
   "metadata": {
    "collapsed": false,
    "deletable": true,
    "editable": true
   },
   "outputs": [],
   "source": [
    "from urllib import urlopen\n",
    "from bs4 import BeautifulSoup\n",
    "\n",
    "def get_data_pais(name):\n",
    "    webpage = urlopen(name).read()\n",
    "    soup = BeautifulSoup(webpage, 'html.parser')\n",
    "    title = soup.find(\"meta\",  property=\"og:title\")\n",
    "    url = soup.find(\"meta\",  property=\"og:url\")\n",
    "    desc = soup.find(\"meta\",  property=\"og:description\")\n",
    "    img = soup.find(\"meta\",  property=\"og:image\")\n",
    "    d = {}\n",
    "    d['title'] = title[\"content\"] if title else None\n",
    "    d['url'] = url[\"content\"] if url else None\n",
    "    d[\"desc\"] = desc[\"content\"] if desc else None\n",
    "    d[\"img\"] = img[\"content\"] if img else None\n",
    "    #print(title[\"content\"] if title else \"No meta title given\")\n",
    "    #print(url[\"content\"] if url else \"No meta url given\")\n",
    "    #print(desc[\"content\"] if desc else \"No meta desc given\")\n",
    "    #print(img[\"content\"] if img else \"No meta image given\")\n",
    "    return d\n",
    "  \n",
    "lurls = []\n",
    "for url in urls:\n",
    "    d = get_data_pais(url[0])\n",
    "    d['rank'] = url[1]\n",
    "    lurls.append(d)\n",
    "    #print '------------------'\n",
    "\n",
    "    \n",
    "  \n"
   ]
  },
  {
   "cell_type": "code",
   "execution_count": 85,
   "metadata": {
    "collapsed": false,
    "deletable": true,
    "editable": true
   },
   "outputs": [],
   "source": [
    "with open('tweevy', 'w') as f:\n",
    "    f.write(json.dumps(lurls))"
   ]
  },
  {
   "cell_type": "code",
   "execution_count": null,
   "metadata": {
    "collapsed": true,
    "deletable": true,
    "editable": true
   },
   "outputs": [],
   "source": []
  }
 ],
 "metadata": {
  "anaconda-cloud": {},
  "kernelspec": {
   "display_name": "Python 2",
   "language": "python",
   "name": "python2"
  },
  "language_info": {
   "codemirror_mode": {
    "name": "ipython",
    "version": 2
   },
   "file_extension": ".py",
   "mimetype": "text/x-python",
   "name": "python",
   "nbconvert_exporter": "python",
   "pygments_lexer": "ipython2",
   "version": "2.7.13"
  }
 },
 "nbformat": 4,
 "nbformat_minor": 1
}
